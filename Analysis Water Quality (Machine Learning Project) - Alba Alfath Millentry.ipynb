{
  "nbformat": 4,
  "nbformat_minor": 0,
  "metadata": {
    "colab": {
      "name": "(Alba Alfath Millentry) - Assignment Day 25.ipynb",
      "provenance": [],
      "collapsed_sections": []
    },
    "kernelspec": {
      "name": "python3",
      "display_name": "Python 3"
    },
    "language_info": {
      "name": "python"
    }
  },
  "cells": [
    {
      "cell_type": "markdown",
      "metadata": {
        "id": "UrFhqmoWRn8Y"
      },
      "source": [
        "**Author: Alba Alfath Millentry**"
      ]
    },
    {
      "cell_type": "markdown",
      "metadata": {
        "id": "zA0kQnqjUHQ7"
      },
      "source": [
        "**Import Library**"
      ]
    },
    {
      "cell_type": "code",
      "metadata": {
        "id": "xPBObcLkReAE"
      },
      "source": [
        "# import EDA library\n",
        "import pandas as pd\n",
        "import numpy as np\n",
        "import seaborn as sns"
      ],
      "execution_count": null,
      "outputs": []
    },
    {
      "cell_type": "code",
      "metadata": {
        "id": "7jxtshadRltZ"
      },
      "source": [
        "# import sklearn library\n",
        "import sklearn.datasets as datasets\n",
        "import sklearn.preprocessing as preprocessing\n",
        "import sklearn.decomposition as decomposition\n",
        "import sklearn.cluster as cluster"
      ],
      "execution_count": null,
      "outputs": []
    },
    {
      "cell_type": "code",
      "metadata": {
        "colab": {
          "base_uri": "https://localhost:8080/"
        },
        "id": "s78nD3orRlwN",
        "outputId": "07b4d278-aea6-4ede-aee8-352a78e133e0"
      },
      "source": [
        "# install library\n",
        "!pip install scikit-plot"
      ],
      "execution_count": null,
      "outputs": [
        {
          "output_type": "stream",
          "text": [
            "Collecting scikit-plot\n",
            "  Downloading scikit_plot-0.3.7-py3-none-any.whl (33 kB)\n",
            "Requirement already satisfied: matplotlib>=1.4.0 in /usr/local/lib/python3.7/dist-packages (from scikit-plot) (3.2.2)\n",
            "Requirement already satisfied: scipy>=0.9 in /usr/local/lib/python3.7/dist-packages (from scikit-plot) (1.4.1)\n",
            "Requirement already satisfied: scikit-learn>=0.18 in /usr/local/lib/python3.7/dist-packages (from scikit-plot) (0.22.2.post1)\n",
            "Requirement already satisfied: joblib>=0.10 in /usr/local/lib/python3.7/dist-packages (from scikit-plot) (1.0.1)\n",
            "Requirement already satisfied: cycler>=0.10 in /usr/local/lib/python3.7/dist-packages (from matplotlib>=1.4.0->scikit-plot) (0.10.0)\n",
            "Requirement already satisfied: pyparsing!=2.0.4,!=2.1.2,!=2.1.6,>=2.0.1 in /usr/local/lib/python3.7/dist-packages (from matplotlib>=1.4.0->scikit-plot) (2.4.7)\n",
            "Requirement already satisfied: kiwisolver>=1.0.1 in /usr/local/lib/python3.7/dist-packages (from matplotlib>=1.4.0->scikit-plot) (1.3.1)\n",
            "Requirement already satisfied: numpy>=1.11 in /usr/local/lib/python3.7/dist-packages (from matplotlib>=1.4.0->scikit-plot) (1.19.5)\n",
            "Requirement already satisfied: python-dateutil>=2.1 in /usr/local/lib/python3.7/dist-packages (from matplotlib>=1.4.0->scikit-plot) (2.8.1)\n",
            "Requirement already satisfied: six in /usr/local/lib/python3.7/dist-packages (from cycler>=0.10->matplotlib>=1.4.0->scikit-plot) (1.15.0)\n",
            "Installing collected packages: scikit-plot\n",
            "Successfully installed scikit-plot-0.3.7\n"
          ],
          "name": "stdout"
        }
      ]
    },
    {
      "cell_type": "markdown",
      "metadata": {
        "id": "9GJTkKgyUMRE"
      },
      "source": [
        "**Read Data**"
      ]
    },
    {
      "cell_type": "code",
      "metadata": {
        "id": "lmoogT1WRly2"
      },
      "source": [
        "# import graph library\n",
        "import matplotlib.pyplot as plt\n",
        "import scikitplot as skplt"
      ],
      "execution_count": null,
      "outputs": []
    },
    {
      "cell_type": "code",
      "metadata": {
        "colab": {
          "base_uri": "https://localhost:8080/"
        },
        "id": "59TJKfvdRl4F",
        "outputId": "5ad97548-4aa7-4583-e699-1119a2c796f9"
      },
      "source": [
        "#mounted google drive\n",
        "import google.colab as gc\n",
        "gc.drive.mount('/content/drive')"
      ],
      "execution_count": null,
      "outputs": [
        {
          "output_type": "stream",
          "text": [
            "Mounted at /content/drive\n"
          ],
          "name": "stdout"
        }
      ]
    },
    {
      "cell_type": "code",
      "metadata": {
        "colab": {
          "base_uri": "https://localhost:8080/"
        },
        "id": "TzEi4wjuRl6R",
        "outputId": "25423245-592a-4d77-d306-2ffd8aea06e1"
      },
      "source": [
        "!pwd"
      ],
      "execution_count": null,
      "outputs": [
        {
          "output_type": "stream",
          "text": [
            "/content\n"
          ],
          "name": "stdout"
        }
      ]
    },
    {
      "cell_type": "code",
      "metadata": {
        "colab": {
          "base_uri": "https://localhost:8080/"
        },
        "id": "aTMVBXXcRl9O",
        "outputId": "45292a28-f0b2-430c-d3b5-524cddddbb3c"
      },
      "source": [
        "%cd '/content/drive/MyDrive/Assigment_25'"
      ],
      "execution_count": null,
      "outputs": [
        {
          "output_type": "stream",
          "text": [
            "/content/drive/MyDrive/Assigment_25\n"
          ],
          "name": "stdout"
        }
      ]
    },
    {
      "cell_type": "code",
      "metadata": {
        "colab": {
          "base_uri": "https://localhost:8080/"
        },
        "id": "Xce-oO0lRl_i",
        "outputId": "37a8579b-8c0e-4383-bae3-b841a41bb212"
      },
      "source": [
        "!ls"
      ],
      "execution_count": null,
      "outputs": [
        {
          "output_type": "stream",
          "text": [
            "'(Alba Alfath Millentry) - Assignment Day 25.ipynb'   water_potability.csv\n"
          ],
          "name": "stdout"
        }
      ]
    },
    {
      "cell_type": "code",
      "metadata": {
        "id": "Qi8L73i4RmC_"
      },
      "source": [
        "water_potability = pd.read_csv('water_potability.csv')"
      ],
      "execution_count": null,
      "outputs": []
    },
    {
      "cell_type": "code",
      "metadata": {
        "colab": {
          "base_uri": "https://localhost:8080/",
          "height": 437
        },
        "id": "Ct9CUL_vRmE6",
        "outputId": "23533e19-c02a-425a-bac4-0432a8fc357d"
      },
      "source": [
        "water_potability"
      ],
      "execution_count": null,
      "outputs": [
        {
          "output_type": "execute_result",
          "data": {
            "text/html": [
              "<div>\n",
              "<style scoped>\n",
              "    .dataframe tbody tr th:only-of-type {\n",
              "        vertical-align: middle;\n",
              "    }\n",
              "\n",
              "    .dataframe tbody tr th {\n",
              "        vertical-align: top;\n",
              "    }\n",
              "\n",
              "    .dataframe thead th {\n",
              "        text-align: right;\n",
              "    }\n",
              "</style>\n",
              "<table border=\"1\" class=\"dataframe\">\n",
              "  <thead>\n",
              "    <tr style=\"text-align: right;\">\n",
              "      <th></th>\n",
              "      <th>ph</th>\n",
              "      <th>Hardness</th>\n",
              "      <th>Solids</th>\n",
              "      <th>Chloramines</th>\n",
              "      <th>Sulfate</th>\n",
              "      <th>Conductivity</th>\n",
              "      <th>Organic_carbon</th>\n",
              "      <th>Trihalomethanes</th>\n",
              "      <th>Turbidity</th>\n",
              "      <th>Potability</th>\n",
              "    </tr>\n",
              "  </thead>\n",
              "  <tbody>\n",
              "    <tr>\n",
              "      <th>0</th>\n",
              "      <td>NaN</td>\n",
              "      <td>204.890455</td>\n",
              "      <td>20791.318981</td>\n",
              "      <td>7.300212</td>\n",
              "      <td>368.516441</td>\n",
              "      <td>564.308654</td>\n",
              "      <td>10.379783</td>\n",
              "      <td>86.990970</td>\n",
              "      <td>2.963135</td>\n",
              "      <td>0</td>\n",
              "    </tr>\n",
              "    <tr>\n",
              "      <th>1</th>\n",
              "      <td>3.716080</td>\n",
              "      <td>129.422921</td>\n",
              "      <td>18630.057858</td>\n",
              "      <td>6.635246</td>\n",
              "      <td>NaN</td>\n",
              "      <td>592.885359</td>\n",
              "      <td>15.180013</td>\n",
              "      <td>56.329076</td>\n",
              "      <td>4.500656</td>\n",
              "      <td>0</td>\n",
              "    </tr>\n",
              "    <tr>\n",
              "      <th>2</th>\n",
              "      <td>8.099124</td>\n",
              "      <td>224.236259</td>\n",
              "      <td>19909.541732</td>\n",
              "      <td>9.275884</td>\n",
              "      <td>NaN</td>\n",
              "      <td>418.606213</td>\n",
              "      <td>16.868637</td>\n",
              "      <td>66.420093</td>\n",
              "      <td>3.055934</td>\n",
              "      <td>0</td>\n",
              "    </tr>\n",
              "    <tr>\n",
              "      <th>3</th>\n",
              "      <td>8.316766</td>\n",
              "      <td>214.373394</td>\n",
              "      <td>22018.417441</td>\n",
              "      <td>8.059332</td>\n",
              "      <td>356.886136</td>\n",
              "      <td>363.266516</td>\n",
              "      <td>18.436524</td>\n",
              "      <td>100.341674</td>\n",
              "      <td>4.628771</td>\n",
              "      <td>0</td>\n",
              "    </tr>\n",
              "    <tr>\n",
              "      <th>4</th>\n",
              "      <td>9.092223</td>\n",
              "      <td>181.101509</td>\n",
              "      <td>17978.986339</td>\n",
              "      <td>6.546600</td>\n",
              "      <td>310.135738</td>\n",
              "      <td>398.410813</td>\n",
              "      <td>11.558279</td>\n",
              "      <td>31.997993</td>\n",
              "      <td>4.075075</td>\n",
              "      <td>0</td>\n",
              "    </tr>\n",
              "    <tr>\n",
              "      <th>...</th>\n",
              "      <td>...</td>\n",
              "      <td>...</td>\n",
              "      <td>...</td>\n",
              "      <td>...</td>\n",
              "      <td>...</td>\n",
              "      <td>...</td>\n",
              "      <td>...</td>\n",
              "      <td>...</td>\n",
              "      <td>...</td>\n",
              "      <td>...</td>\n",
              "    </tr>\n",
              "    <tr>\n",
              "      <th>3271</th>\n",
              "      <td>4.668102</td>\n",
              "      <td>193.681735</td>\n",
              "      <td>47580.991603</td>\n",
              "      <td>7.166639</td>\n",
              "      <td>359.948574</td>\n",
              "      <td>526.424171</td>\n",
              "      <td>13.894419</td>\n",
              "      <td>66.687695</td>\n",
              "      <td>4.435821</td>\n",
              "      <td>1</td>\n",
              "    </tr>\n",
              "    <tr>\n",
              "      <th>3272</th>\n",
              "      <td>7.808856</td>\n",
              "      <td>193.553212</td>\n",
              "      <td>17329.802160</td>\n",
              "      <td>8.061362</td>\n",
              "      <td>NaN</td>\n",
              "      <td>392.449580</td>\n",
              "      <td>19.903225</td>\n",
              "      <td>NaN</td>\n",
              "      <td>2.798243</td>\n",
              "      <td>1</td>\n",
              "    </tr>\n",
              "    <tr>\n",
              "      <th>3273</th>\n",
              "      <td>9.419510</td>\n",
              "      <td>175.762646</td>\n",
              "      <td>33155.578218</td>\n",
              "      <td>7.350233</td>\n",
              "      <td>NaN</td>\n",
              "      <td>432.044783</td>\n",
              "      <td>11.039070</td>\n",
              "      <td>69.845400</td>\n",
              "      <td>3.298875</td>\n",
              "      <td>1</td>\n",
              "    </tr>\n",
              "    <tr>\n",
              "      <th>3274</th>\n",
              "      <td>5.126763</td>\n",
              "      <td>230.603758</td>\n",
              "      <td>11983.869376</td>\n",
              "      <td>6.303357</td>\n",
              "      <td>NaN</td>\n",
              "      <td>402.883113</td>\n",
              "      <td>11.168946</td>\n",
              "      <td>77.488213</td>\n",
              "      <td>4.708658</td>\n",
              "      <td>1</td>\n",
              "    </tr>\n",
              "    <tr>\n",
              "      <th>3275</th>\n",
              "      <td>7.874671</td>\n",
              "      <td>195.102299</td>\n",
              "      <td>17404.177061</td>\n",
              "      <td>7.509306</td>\n",
              "      <td>NaN</td>\n",
              "      <td>327.459760</td>\n",
              "      <td>16.140368</td>\n",
              "      <td>78.698446</td>\n",
              "      <td>2.309149</td>\n",
              "      <td>1</td>\n",
              "    </tr>\n",
              "  </tbody>\n",
              "</table>\n",
              "<p>3276 rows × 10 columns</p>\n",
              "</div>"
            ],
            "text/plain": [
              "            ph    Hardness  ...  Turbidity  Potability\n",
              "0          NaN  204.890455  ...   2.963135           0\n",
              "1     3.716080  129.422921  ...   4.500656           0\n",
              "2     8.099124  224.236259  ...   3.055934           0\n",
              "3     8.316766  214.373394  ...   4.628771           0\n",
              "4     9.092223  181.101509  ...   4.075075           0\n",
              "...        ...         ...  ...        ...         ...\n",
              "3271  4.668102  193.681735  ...   4.435821           1\n",
              "3272  7.808856  193.553212  ...   2.798243           1\n",
              "3273  9.419510  175.762646  ...   3.298875           1\n",
              "3274  5.126763  230.603758  ...   4.708658           1\n",
              "3275  7.874671  195.102299  ...   2.309149           1\n",
              "\n",
              "[3276 rows x 10 columns]"
            ]
          },
          "metadata": {
            "tags": []
          },
          "execution_count": 10
        }
      ]
    },
    {
      "cell_type": "code",
      "metadata": {
        "colab": {
          "base_uri": "https://localhost:8080/"
        },
        "id": "XWodq7t4RmIo",
        "outputId": "3aa9c967-2256-473f-aa69-2bf4452d7c89"
      },
      "source": [
        "water_potability.info()"
      ],
      "execution_count": null,
      "outputs": [
        {
          "output_type": "stream",
          "text": [
            "<class 'pandas.core.frame.DataFrame'>\n",
            "RangeIndex: 3276 entries, 0 to 3275\n",
            "Data columns (total 10 columns):\n",
            " #   Column           Non-Null Count  Dtype  \n",
            "---  ------           --------------  -----  \n",
            " 0   ph               2785 non-null   float64\n",
            " 1   Hardness         3276 non-null   float64\n",
            " 2   Solids           3276 non-null   float64\n",
            " 3   Chloramines      3276 non-null   float64\n",
            " 4   Sulfate          2495 non-null   float64\n",
            " 5   Conductivity     3276 non-null   float64\n",
            " 6   Organic_carbon   3276 non-null   float64\n",
            " 7   Trihalomethanes  3114 non-null   float64\n",
            " 8   Turbidity        3276 non-null   float64\n",
            " 9   Potability       3276 non-null   int64  \n",
            "dtypes: float64(9), int64(1)\n",
            "memory usage: 256.1 KB\n"
          ],
          "name": "stdout"
        }
      ]
    },
    {
      "cell_type": "code",
      "metadata": {
        "id": "YRjp8aI6RmKz"
      },
      "source": [
        "#target data\n",
        "water_potability_target_data = water_potability['Potability']"
      ],
      "execution_count": null,
      "outputs": []
    },
    {
      "cell_type": "code",
      "metadata": {
        "colab": {
          "base_uri": "https://localhost:8080/"
        },
        "id": "G1XCqzdNRmNa",
        "outputId": "4cbbcbf6-b08f-42e2-ac36-368da68d99fa"
      },
      "source": [
        "water_potability_target_data"
      ],
      "execution_count": null,
      "outputs": [
        {
          "output_type": "execute_result",
          "data": {
            "text/plain": [
              "0       0\n",
              "1       0\n",
              "2       0\n",
              "3       0\n",
              "4       0\n",
              "       ..\n",
              "3271    1\n",
              "3272    1\n",
              "3273    1\n",
              "3274    1\n",
              "3275    1\n",
              "Name: Potability, Length: 3276, dtype: int64"
            ]
          },
          "metadata": {
            "tags": []
          },
          "execution_count": 13
        }
      ]
    },
    {
      "cell_type": "code",
      "metadata": {
        "id": "3GSQGpH8RmQR"
      },
      "source": [
        "#value data\n",
        "water_potability_value_data = water_potability.drop(water_potability['Potability'])"
      ],
      "execution_count": null,
      "outputs": []
    },
    {
      "cell_type": "code",
      "metadata": {
        "colab": {
          "base_uri": "https://localhost:8080/",
          "height": 437
        },
        "id": "t2V8qZ2iRmTF",
        "outputId": "bddc7939-6e0f-404d-ff90-10e230e6f7e2"
      },
      "source": [
        "water_potability_value_data"
      ],
      "execution_count": null,
      "outputs": [
        {
          "output_type": "execute_result",
          "data": {
            "text/html": [
              "<div>\n",
              "<style scoped>\n",
              "    .dataframe tbody tr th:only-of-type {\n",
              "        vertical-align: middle;\n",
              "    }\n",
              "\n",
              "    .dataframe tbody tr th {\n",
              "        vertical-align: top;\n",
              "    }\n",
              "\n",
              "    .dataframe thead th {\n",
              "        text-align: right;\n",
              "    }\n",
              "</style>\n",
              "<table border=\"1\" class=\"dataframe\">\n",
              "  <thead>\n",
              "    <tr style=\"text-align: right;\">\n",
              "      <th></th>\n",
              "      <th>ph</th>\n",
              "      <th>Hardness</th>\n",
              "      <th>Solids</th>\n",
              "      <th>Chloramines</th>\n",
              "      <th>Sulfate</th>\n",
              "      <th>Conductivity</th>\n",
              "      <th>Organic_carbon</th>\n",
              "      <th>Trihalomethanes</th>\n",
              "      <th>Turbidity</th>\n",
              "      <th>Potability</th>\n",
              "    </tr>\n",
              "  </thead>\n",
              "  <tbody>\n",
              "    <tr>\n",
              "      <th>2</th>\n",
              "      <td>8.099124</td>\n",
              "      <td>224.236259</td>\n",
              "      <td>19909.541732</td>\n",
              "      <td>9.275884</td>\n",
              "      <td>NaN</td>\n",
              "      <td>418.606213</td>\n",
              "      <td>16.868637</td>\n",
              "      <td>66.420093</td>\n",
              "      <td>3.055934</td>\n",
              "      <td>0</td>\n",
              "    </tr>\n",
              "    <tr>\n",
              "      <th>3</th>\n",
              "      <td>8.316766</td>\n",
              "      <td>214.373394</td>\n",
              "      <td>22018.417441</td>\n",
              "      <td>8.059332</td>\n",
              "      <td>356.886136</td>\n",
              "      <td>363.266516</td>\n",
              "      <td>18.436524</td>\n",
              "      <td>100.341674</td>\n",
              "      <td>4.628771</td>\n",
              "      <td>0</td>\n",
              "    </tr>\n",
              "    <tr>\n",
              "      <th>4</th>\n",
              "      <td>9.092223</td>\n",
              "      <td>181.101509</td>\n",
              "      <td>17978.986339</td>\n",
              "      <td>6.546600</td>\n",
              "      <td>310.135738</td>\n",
              "      <td>398.410813</td>\n",
              "      <td>11.558279</td>\n",
              "      <td>31.997993</td>\n",
              "      <td>4.075075</td>\n",
              "      <td>0</td>\n",
              "    </tr>\n",
              "    <tr>\n",
              "      <th>5</th>\n",
              "      <td>5.584087</td>\n",
              "      <td>188.313324</td>\n",
              "      <td>28748.687739</td>\n",
              "      <td>7.544869</td>\n",
              "      <td>326.678363</td>\n",
              "      <td>280.467916</td>\n",
              "      <td>8.399735</td>\n",
              "      <td>54.917862</td>\n",
              "      <td>2.559708</td>\n",
              "      <td>0</td>\n",
              "    </tr>\n",
              "    <tr>\n",
              "      <th>6</th>\n",
              "      <td>10.223862</td>\n",
              "      <td>248.071735</td>\n",
              "      <td>28749.716544</td>\n",
              "      <td>7.513408</td>\n",
              "      <td>393.663396</td>\n",
              "      <td>283.651634</td>\n",
              "      <td>13.789695</td>\n",
              "      <td>84.603556</td>\n",
              "      <td>2.672989</td>\n",
              "      <td>0</td>\n",
              "    </tr>\n",
              "    <tr>\n",
              "      <th>...</th>\n",
              "      <td>...</td>\n",
              "      <td>...</td>\n",
              "      <td>...</td>\n",
              "      <td>...</td>\n",
              "      <td>...</td>\n",
              "      <td>...</td>\n",
              "      <td>...</td>\n",
              "      <td>...</td>\n",
              "      <td>...</td>\n",
              "      <td>...</td>\n",
              "    </tr>\n",
              "    <tr>\n",
              "      <th>3271</th>\n",
              "      <td>4.668102</td>\n",
              "      <td>193.681735</td>\n",
              "      <td>47580.991603</td>\n",
              "      <td>7.166639</td>\n",
              "      <td>359.948574</td>\n",
              "      <td>526.424171</td>\n",
              "      <td>13.894419</td>\n",
              "      <td>66.687695</td>\n",
              "      <td>4.435821</td>\n",
              "      <td>1</td>\n",
              "    </tr>\n",
              "    <tr>\n",
              "      <th>3272</th>\n",
              "      <td>7.808856</td>\n",
              "      <td>193.553212</td>\n",
              "      <td>17329.802160</td>\n",
              "      <td>8.061362</td>\n",
              "      <td>NaN</td>\n",
              "      <td>392.449580</td>\n",
              "      <td>19.903225</td>\n",
              "      <td>NaN</td>\n",
              "      <td>2.798243</td>\n",
              "      <td>1</td>\n",
              "    </tr>\n",
              "    <tr>\n",
              "      <th>3273</th>\n",
              "      <td>9.419510</td>\n",
              "      <td>175.762646</td>\n",
              "      <td>33155.578218</td>\n",
              "      <td>7.350233</td>\n",
              "      <td>NaN</td>\n",
              "      <td>432.044783</td>\n",
              "      <td>11.039070</td>\n",
              "      <td>69.845400</td>\n",
              "      <td>3.298875</td>\n",
              "      <td>1</td>\n",
              "    </tr>\n",
              "    <tr>\n",
              "      <th>3274</th>\n",
              "      <td>5.126763</td>\n",
              "      <td>230.603758</td>\n",
              "      <td>11983.869376</td>\n",
              "      <td>6.303357</td>\n",
              "      <td>NaN</td>\n",
              "      <td>402.883113</td>\n",
              "      <td>11.168946</td>\n",
              "      <td>77.488213</td>\n",
              "      <td>4.708658</td>\n",
              "      <td>1</td>\n",
              "    </tr>\n",
              "    <tr>\n",
              "      <th>3275</th>\n",
              "      <td>7.874671</td>\n",
              "      <td>195.102299</td>\n",
              "      <td>17404.177061</td>\n",
              "      <td>7.509306</td>\n",
              "      <td>NaN</td>\n",
              "      <td>327.459760</td>\n",
              "      <td>16.140368</td>\n",
              "      <td>78.698446</td>\n",
              "      <td>2.309149</td>\n",
              "      <td>1</td>\n",
              "    </tr>\n",
              "  </tbody>\n",
              "</table>\n",
              "<p>3274 rows × 10 columns</p>\n",
              "</div>"
            ],
            "text/plain": [
              "             ph    Hardness  ...  Turbidity  Potability\n",
              "2      8.099124  224.236259  ...   3.055934           0\n",
              "3      8.316766  214.373394  ...   4.628771           0\n",
              "4      9.092223  181.101509  ...   4.075075           0\n",
              "5      5.584087  188.313324  ...   2.559708           0\n",
              "6     10.223862  248.071735  ...   2.672989           0\n",
              "...         ...         ...  ...        ...         ...\n",
              "3271   4.668102  193.681735  ...   4.435821           1\n",
              "3272   7.808856  193.553212  ...   2.798243           1\n",
              "3273   9.419510  175.762646  ...   3.298875           1\n",
              "3274   5.126763  230.603758  ...   4.708658           1\n",
              "3275   7.874671  195.102299  ...   2.309149           1\n",
              "\n",
              "[3274 rows x 10 columns]"
            ]
          },
          "metadata": {
            "tags": []
          },
          "execution_count": 15
        }
      ]
    },
    {
      "cell_type": "markdown",
      "metadata": {
        "id": "6wzzg3xWR_o4"
      },
      "source": [
        "**EDA**"
      ]
    },
    {
      "cell_type": "code",
      "metadata": {
        "colab": {
          "base_uri": "https://localhost:8080/"
        },
        "id": "PtetjXGARmWy",
        "outputId": "47f63ab6-1651-4d30-b1e4-c75c76ce856c"
      },
      "source": [
        "# merge value data and target data - check data type and shape\n",
        "print('data type value:',type(water_potability_value_data))\n",
        "print('shape value:',water_potability_value_data.shape)\n",
        "print('\\n')\n",
        "print('data type target:',type(water_potability_target_data))\n",
        "print('shape target:',water_potability_target_data.shape)"
      ],
      "execution_count": null,
      "outputs": [
        {
          "output_type": "stream",
          "text": [
            "data type value: <class 'pandas.core.frame.DataFrame'>\n",
            "shape value: (3274, 10)\n",
            "\n",
            "\n",
            "data type target: <class 'pandas.core.series.Series'>\n",
            "shape target: (3276,)\n"
          ],
          "name": "stdout"
        }
      ]
    },
    {
      "cell_type": "code",
      "metadata": {
        "id": "uiW_gCf1SBkR"
      },
      "source": [
        "# assign variable for column in numeric type\n",
        "numeric_column = ['ph', 'Hardness', 'Solids', 'Chloramines', 'Sulfate', 'Conductivity', \n",
        "                  'Organic_carbon', 'Trihalomethanes', 'Turbidity', 'Potability']"
      ],
      "execution_count": null,
      "outputs": []
    },
    {
      "cell_type": "code",
      "metadata": {
        "colab": {
          "base_uri": "https://localhost:8080/",
          "height": 315
        },
        "id": "3Ujw1Z39RmYp",
        "outputId": "7ea53bfd-649c-4afa-fdd5-f4750c836719"
      },
      "source": [
        "water_potability[numeric_column].describe()"
      ],
      "execution_count": null,
      "outputs": [
        {
          "output_type": "execute_result",
          "data": {
            "text/html": [
              "<div>\n",
              "<style scoped>\n",
              "    .dataframe tbody tr th:only-of-type {\n",
              "        vertical-align: middle;\n",
              "    }\n",
              "\n",
              "    .dataframe tbody tr th {\n",
              "        vertical-align: top;\n",
              "    }\n",
              "\n",
              "    .dataframe thead th {\n",
              "        text-align: right;\n",
              "    }\n",
              "</style>\n",
              "<table border=\"1\" class=\"dataframe\">\n",
              "  <thead>\n",
              "    <tr style=\"text-align: right;\">\n",
              "      <th></th>\n",
              "      <th>ph</th>\n",
              "      <th>Hardness</th>\n",
              "      <th>Solids</th>\n",
              "      <th>Chloramines</th>\n",
              "      <th>Sulfate</th>\n",
              "      <th>Conductivity</th>\n",
              "      <th>Organic_carbon</th>\n",
              "      <th>Trihalomethanes</th>\n",
              "      <th>Turbidity</th>\n",
              "      <th>Potability</th>\n",
              "    </tr>\n",
              "  </thead>\n",
              "  <tbody>\n",
              "    <tr>\n",
              "      <th>count</th>\n",
              "      <td>2785.000000</td>\n",
              "      <td>3276.000000</td>\n",
              "      <td>3276.000000</td>\n",
              "      <td>3276.000000</td>\n",
              "      <td>2495.000000</td>\n",
              "      <td>3276.000000</td>\n",
              "      <td>3276.000000</td>\n",
              "      <td>3114.000000</td>\n",
              "      <td>3276.000000</td>\n",
              "      <td>3276.000000</td>\n",
              "    </tr>\n",
              "    <tr>\n",
              "      <th>mean</th>\n",
              "      <td>7.080795</td>\n",
              "      <td>196.369496</td>\n",
              "      <td>22014.092526</td>\n",
              "      <td>7.122277</td>\n",
              "      <td>333.775777</td>\n",
              "      <td>426.205111</td>\n",
              "      <td>14.284970</td>\n",
              "      <td>66.396293</td>\n",
              "      <td>3.966786</td>\n",
              "      <td>0.390110</td>\n",
              "    </tr>\n",
              "    <tr>\n",
              "      <th>std</th>\n",
              "      <td>1.594320</td>\n",
              "      <td>32.879761</td>\n",
              "      <td>8768.570828</td>\n",
              "      <td>1.583085</td>\n",
              "      <td>41.416840</td>\n",
              "      <td>80.824064</td>\n",
              "      <td>3.308162</td>\n",
              "      <td>16.175008</td>\n",
              "      <td>0.780382</td>\n",
              "      <td>0.487849</td>\n",
              "    </tr>\n",
              "    <tr>\n",
              "      <th>min</th>\n",
              "      <td>0.000000</td>\n",
              "      <td>47.432000</td>\n",
              "      <td>320.942611</td>\n",
              "      <td>0.352000</td>\n",
              "      <td>129.000000</td>\n",
              "      <td>181.483754</td>\n",
              "      <td>2.200000</td>\n",
              "      <td>0.738000</td>\n",
              "      <td>1.450000</td>\n",
              "      <td>0.000000</td>\n",
              "    </tr>\n",
              "    <tr>\n",
              "      <th>25%</th>\n",
              "      <td>6.093092</td>\n",
              "      <td>176.850538</td>\n",
              "      <td>15666.690297</td>\n",
              "      <td>6.127421</td>\n",
              "      <td>307.699498</td>\n",
              "      <td>365.734414</td>\n",
              "      <td>12.065801</td>\n",
              "      <td>55.844536</td>\n",
              "      <td>3.439711</td>\n",
              "      <td>0.000000</td>\n",
              "    </tr>\n",
              "    <tr>\n",
              "      <th>50%</th>\n",
              "      <td>7.036752</td>\n",
              "      <td>196.967627</td>\n",
              "      <td>20927.833607</td>\n",
              "      <td>7.130299</td>\n",
              "      <td>333.073546</td>\n",
              "      <td>421.884968</td>\n",
              "      <td>14.218338</td>\n",
              "      <td>66.622485</td>\n",
              "      <td>3.955028</td>\n",
              "      <td>0.000000</td>\n",
              "    </tr>\n",
              "    <tr>\n",
              "      <th>75%</th>\n",
              "      <td>8.062066</td>\n",
              "      <td>216.667456</td>\n",
              "      <td>27332.762127</td>\n",
              "      <td>8.114887</td>\n",
              "      <td>359.950170</td>\n",
              "      <td>481.792304</td>\n",
              "      <td>16.557652</td>\n",
              "      <td>77.337473</td>\n",
              "      <td>4.500320</td>\n",
              "      <td>1.000000</td>\n",
              "    </tr>\n",
              "    <tr>\n",
              "      <th>max</th>\n",
              "      <td>14.000000</td>\n",
              "      <td>323.124000</td>\n",
              "      <td>61227.196008</td>\n",
              "      <td>13.127000</td>\n",
              "      <td>481.030642</td>\n",
              "      <td>753.342620</td>\n",
              "      <td>28.300000</td>\n",
              "      <td>124.000000</td>\n",
              "      <td>6.739000</td>\n",
              "      <td>1.000000</td>\n",
              "    </tr>\n",
              "  </tbody>\n",
              "</table>\n",
              "</div>"
            ],
            "text/plain": [
              "                ph     Hardness  ...    Turbidity   Potability\n",
              "count  2785.000000  3276.000000  ...  3276.000000  3276.000000\n",
              "mean      7.080795   196.369496  ...     3.966786     0.390110\n",
              "std       1.594320    32.879761  ...     0.780382     0.487849\n",
              "min       0.000000    47.432000  ...     1.450000     0.000000\n",
              "25%       6.093092   176.850538  ...     3.439711     0.000000\n",
              "50%       7.036752   196.967627  ...     3.955028     0.000000\n",
              "75%       8.062066   216.667456  ...     4.500320     1.000000\n",
              "max      14.000000   323.124000  ...     6.739000     1.000000\n",
              "\n",
              "[8 rows x 10 columns]"
            ]
          },
          "metadata": {
            "tags": []
          },
          "execution_count": 18
        }
      ]
    },
    {
      "cell_type": "code",
      "metadata": {
        "colab": {
          "base_uri": "https://localhost:8080/",
          "height": 437
        },
        "id": "5RB5OWYZRmbg",
        "outputId": "7091f6af-d21b-4d09-c207-313b0e244b89"
      },
      "source": [
        "water_potability[water_potability.isnull().any(axis=1)]"
      ],
      "execution_count": null,
      "outputs": [
        {
          "output_type": "execute_result",
          "data": {
            "text/html": [
              "<div>\n",
              "<style scoped>\n",
              "    .dataframe tbody tr th:only-of-type {\n",
              "        vertical-align: middle;\n",
              "    }\n",
              "\n",
              "    .dataframe tbody tr th {\n",
              "        vertical-align: top;\n",
              "    }\n",
              "\n",
              "    .dataframe thead th {\n",
              "        text-align: right;\n",
              "    }\n",
              "</style>\n",
              "<table border=\"1\" class=\"dataframe\">\n",
              "  <thead>\n",
              "    <tr style=\"text-align: right;\">\n",
              "      <th></th>\n",
              "      <th>ph</th>\n",
              "      <th>Hardness</th>\n",
              "      <th>Solids</th>\n",
              "      <th>Chloramines</th>\n",
              "      <th>Sulfate</th>\n",
              "      <th>Conductivity</th>\n",
              "      <th>Organic_carbon</th>\n",
              "      <th>Trihalomethanes</th>\n",
              "      <th>Turbidity</th>\n",
              "      <th>Potability</th>\n",
              "    </tr>\n",
              "  </thead>\n",
              "  <tbody>\n",
              "    <tr>\n",
              "      <th>0</th>\n",
              "      <td>NaN</td>\n",
              "      <td>204.890455</td>\n",
              "      <td>20791.318981</td>\n",
              "      <td>7.300212</td>\n",
              "      <td>368.516441</td>\n",
              "      <td>564.308654</td>\n",
              "      <td>10.379783</td>\n",
              "      <td>86.990970</td>\n",
              "      <td>2.963135</td>\n",
              "      <td>0</td>\n",
              "    </tr>\n",
              "    <tr>\n",
              "      <th>1</th>\n",
              "      <td>3.716080</td>\n",
              "      <td>129.422921</td>\n",
              "      <td>18630.057858</td>\n",
              "      <td>6.635246</td>\n",
              "      <td>NaN</td>\n",
              "      <td>592.885359</td>\n",
              "      <td>15.180013</td>\n",
              "      <td>56.329076</td>\n",
              "      <td>4.500656</td>\n",
              "      <td>0</td>\n",
              "    </tr>\n",
              "    <tr>\n",
              "      <th>2</th>\n",
              "      <td>8.099124</td>\n",
              "      <td>224.236259</td>\n",
              "      <td>19909.541732</td>\n",
              "      <td>9.275884</td>\n",
              "      <td>NaN</td>\n",
              "      <td>418.606213</td>\n",
              "      <td>16.868637</td>\n",
              "      <td>66.420093</td>\n",
              "      <td>3.055934</td>\n",
              "      <td>0</td>\n",
              "    </tr>\n",
              "    <tr>\n",
              "      <th>8</th>\n",
              "      <td>NaN</td>\n",
              "      <td>118.988579</td>\n",
              "      <td>14285.583854</td>\n",
              "      <td>7.804174</td>\n",
              "      <td>268.646941</td>\n",
              "      <td>389.375566</td>\n",
              "      <td>12.706049</td>\n",
              "      <td>53.928846</td>\n",
              "      <td>3.595017</td>\n",
              "      <td>0</td>\n",
              "    </tr>\n",
              "    <tr>\n",
              "      <th>11</th>\n",
              "      <td>7.974522</td>\n",
              "      <td>218.693300</td>\n",
              "      <td>18767.656682</td>\n",
              "      <td>8.110385</td>\n",
              "      <td>NaN</td>\n",
              "      <td>364.098230</td>\n",
              "      <td>14.525746</td>\n",
              "      <td>76.485911</td>\n",
              "      <td>4.011718</td>\n",
              "      <td>0</td>\n",
              "    </tr>\n",
              "    <tr>\n",
              "      <th>...</th>\n",
              "      <td>...</td>\n",
              "      <td>...</td>\n",
              "      <td>...</td>\n",
              "      <td>...</td>\n",
              "      <td>...</td>\n",
              "      <td>...</td>\n",
              "      <td>...</td>\n",
              "      <td>...</td>\n",
              "      <td>...</td>\n",
              "      <td>...</td>\n",
              "    </tr>\n",
              "    <tr>\n",
              "      <th>3266</th>\n",
              "      <td>8.372910</td>\n",
              "      <td>169.087052</td>\n",
              "      <td>14622.745494</td>\n",
              "      <td>7.547984</td>\n",
              "      <td>NaN</td>\n",
              "      <td>464.525552</td>\n",
              "      <td>11.083027</td>\n",
              "      <td>38.435151</td>\n",
              "      <td>4.906358</td>\n",
              "      <td>1</td>\n",
              "    </tr>\n",
              "    <tr>\n",
              "      <th>3272</th>\n",
              "      <td>7.808856</td>\n",
              "      <td>193.553212</td>\n",
              "      <td>17329.802160</td>\n",
              "      <td>8.061362</td>\n",
              "      <td>NaN</td>\n",
              "      <td>392.449580</td>\n",
              "      <td>19.903225</td>\n",
              "      <td>NaN</td>\n",
              "      <td>2.798243</td>\n",
              "      <td>1</td>\n",
              "    </tr>\n",
              "    <tr>\n",
              "      <th>3273</th>\n",
              "      <td>9.419510</td>\n",
              "      <td>175.762646</td>\n",
              "      <td>33155.578218</td>\n",
              "      <td>7.350233</td>\n",
              "      <td>NaN</td>\n",
              "      <td>432.044783</td>\n",
              "      <td>11.039070</td>\n",
              "      <td>69.845400</td>\n",
              "      <td>3.298875</td>\n",
              "      <td>1</td>\n",
              "    </tr>\n",
              "    <tr>\n",
              "      <th>3274</th>\n",
              "      <td>5.126763</td>\n",
              "      <td>230.603758</td>\n",
              "      <td>11983.869376</td>\n",
              "      <td>6.303357</td>\n",
              "      <td>NaN</td>\n",
              "      <td>402.883113</td>\n",
              "      <td>11.168946</td>\n",
              "      <td>77.488213</td>\n",
              "      <td>4.708658</td>\n",
              "      <td>1</td>\n",
              "    </tr>\n",
              "    <tr>\n",
              "      <th>3275</th>\n",
              "      <td>7.874671</td>\n",
              "      <td>195.102299</td>\n",
              "      <td>17404.177061</td>\n",
              "      <td>7.509306</td>\n",
              "      <td>NaN</td>\n",
              "      <td>327.459760</td>\n",
              "      <td>16.140368</td>\n",
              "      <td>78.698446</td>\n",
              "      <td>2.309149</td>\n",
              "      <td>1</td>\n",
              "    </tr>\n",
              "  </tbody>\n",
              "</table>\n",
              "<p>1265 rows × 10 columns</p>\n",
              "</div>"
            ],
            "text/plain": [
              "            ph    Hardness  ...  Turbidity  Potability\n",
              "0          NaN  204.890455  ...   2.963135           0\n",
              "1     3.716080  129.422921  ...   4.500656           0\n",
              "2     8.099124  224.236259  ...   3.055934           0\n",
              "8          NaN  118.988579  ...   3.595017           0\n",
              "11    7.974522  218.693300  ...   4.011718           0\n",
              "...        ...         ...  ...        ...         ...\n",
              "3266  8.372910  169.087052  ...   4.906358           1\n",
              "3272  7.808856  193.553212  ...   2.798243           1\n",
              "3273  9.419510  175.762646  ...   3.298875           1\n",
              "3274  5.126763  230.603758  ...   4.708658           1\n",
              "3275  7.874671  195.102299  ...   2.309149           1\n",
              "\n",
              "[1265 rows x 10 columns]"
            ]
          },
          "metadata": {
            "tags": []
          },
          "execution_count": 19
        }
      ]
    },
    {
      "cell_type": "code",
      "metadata": {
        "colab": {
          "base_uri": "https://localhost:8080/",
          "height": 592
        },
        "id": "usv-JCQBRmeV",
        "outputId": "a6e5361a-c0f8-4476-a3ec-6a0fb86a9f3e"
      },
      "source": [
        "# check outlier using boxplot\n",
        "fig, axes = plt.subplots(nrows=2, ncols=5,figsize=(10,10))\n",
        "\n",
        "for i,el in enumerate(numeric_column):\n",
        "    a = water_potability.boxplot(el, ax=axes.flatten()[i],grid=False)\n",
        "\n",
        "plt.show()"
      ],
      "execution_count": null,
      "outputs": [
        {
          "output_type": "display_data",
          "data": {
            "image/png": "[encoded data removed]",
            "text/plain": [
              "<Figure size 720x720 with 10 Axes>"
            ]
          },
          "metadata": {
            "tags": [],
            "needs_background": "light"
          }
        }
      ]
    },
    {
      "cell_type": "code",
      "metadata": {
        "colab": {
          "base_uri": "https://localhost:8080/"
        },
        "id": "4AhSC7L-Rmg4",
        "outputId": "2fd2a431-edae-410d-932a-41b2be5cb1aa"
      },
      "source": [
        "# get IQR for each numeric column\n",
        "Q1 = water_potability[numeric_column].quantile(0.25)\n",
        "Q3 = water_potability[numeric_column].quantile(0.75)\n",
        "IQR = Q3 - Q1\n",
        "boxplot_min = Q1 - 1.5 * IQR\n",
        "boxplot_max = Q3 + 1.5 * IQR\n",
        "print('Q1:\\n',Q1)\n",
        "print('\\nQ3:\\n',Q3)\n",
        "print('\\nIQR:\\n',IQR)\n",
        "print('\\nMin:\\n',boxplot_min)\n",
        "print('\\nMax:\\n',boxplot_max)"
      ],
      "execution_count": null,
      "outputs": [
        {
          "output_type": "stream",
          "text": [
            "Q1:\n",
            " ph                     6.093092\n",
            "Hardness             176.850538\n",
            "Solids             15666.690297\n",
            "Chloramines            6.127421\n",
            "Sulfate              307.699498\n",
            "Conductivity         365.734414\n",
            "Organic_carbon        12.065801\n",
            "Trihalomethanes       55.844536\n",
            "Turbidity              3.439711\n",
            "Potability             0.000000\n",
            "Name: 0.25, dtype: float64\n",
            "\n",
            "Q3:\n",
            " ph                     8.062066\n",
            "Hardness             216.667456\n",
            "Solids             27332.762127\n",
            "Chloramines            8.114887\n",
            "Sulfate              359.950170\n",
            "Conductivity         481.792304\n",
            "Organic_carbon        16.557652\n",
            "Trihalomethanes       77.337473\n",
            "Turbidity              4.500320\n",
            "Potability             1.000000\n",
            "Name: 0.75, dtype: float64\n",
            "\n",
            "IQR:\n",
            " ph                     1.968974\n",
            "Hardness              39.816918\n",
            "Solids             11666.071830\n",
            "Chloramines            1.987466\n",
            "Sulfate               52.250673\n",
            "Conductivity         116.057890\n",
            "Organic_carbon         4.491850\n",
            "Trihalomethanes       21.492937\n",
            "Turbidity              1.060609\n",
            "Potability             1.000000\n",
            "dtype: float64\n",
            "\n",
            "Min:\n",
            " ph                    3.139631\n",
            "Hardness            117.125160\n",
            "Solids            -1832.417449\n",
            "Chloramines           3.146221\n",
            "Sulfate             229.323489\n",
            "Conductivity        191.647579\n",
            "Organic_carbon        5.328026\n",
            "Trihalomethanes      23.605130\n",
            "Turbidity             1.848797\n",
            "Potability           -1.500000\n",
            "dtype: float64\n",
            "\n",
            "Max:\n",
            " ph                    11.015527\n",
            "Hardness             276.392834\n",
            "Solids             44831.869873\n",
            "Chloramines           11.096086\n",
            "Sulfate              438.326179\n",
            "Conductivity         655.879140\n",
            "Organic_carbon        23.295427\n",
            "Trihalomethanes      109.576879\n",
            "Turbidity              6.091233\n",
            "Potability             2.500000\n",
            "dtype: float64\n"
          ],
          "name": "stdout"
        }
      ]
    },
    {
      "cell_type": "code",
      "metadata": {
        "id": "K0h9Pu1qRmj4"
      },
      "source": [
        "# remove outlier\n",
        "non_outlier_df = water_potability.copy()\n",
        "for x in numeric_column:\n",
        "  filter_min = non_outlier_df[x]<boxplot_min[x]\n",
        "  filter_max = non_outlier_df[x]>boxplot_max[x]\n",
        "  non_outlier_df = non_outlier_df[~(\n",
        "    filter_min|filter_max\n",
        "    )]"
      ],
      "execution_count": null,
      "outputs": []
    },
    {
      "cell_type": "code",
      "metadata": {
        "colab": {
          "base_uri": "https://localhost:8080/",
          "height": 377
        },
        "id": "dkb2gTPkRmm4",
        "outputId": "0d36cfcd-e257-4c12-f0be-604bbae55565"
      },
      "source": [
        "non_outlier_df.head(10)"
      ],
      "execution_count": null,
      "outputs": [
        {
          "output_type": "execute_result",
          "data": {
            "text/html": [
              "<div>\n",
              "<style scoped>\n",
              "    .dataframe tbody tr th:only-of-type {\n",
              "        vertical-align: middle;\n",
              "    }\n",
              "\n",
              "    .dataframe tbody tr th {\n",
              "        vertical-align: top;\n",
              "    }\n",
              "\n",
              "    .dataframe thead th {\n",
              "        text-align: right;\n",
              "    }\n",
              "</style>\n",
              "<table border=\"1\" class=\"dataframe\">\n",
              "  <thead>\n",
              "    <tr style=\"text-align: right;\">\n",
              "      <th></th>\n",
              "      <th>ph</th>\n",
              "      <th>Hardness</th>\n",
              "      <th>Solids</th>\n",
              "      <th>Chloramines</th>\n",
              "      <th>Sulfate</th>\n",
              "      <th>Conductivity</th>\n",
              "      <th>Organic_carbon</th>\n",
              "      <th>Trihalomethanes</th>\n",
              "      <th>Turbidity</th>\n",
              "      <th>Potability</th>\n",
              "    </tr>\n",
              "  </thead>\n",
              "  <tbody>\n",
              "    <tr>\n",
              "      <th>0</th>\n",
              "      <td>NaN</td>\n",
              "      <td>204.890455</td>\n",
              "      <td>20791.318981</td>\n",
              "      <td>7.300212</td>\n",
              "      <td>368.516441</td>\n",
              "      <td>564.308654</td>\n",
              "      <td>10.379783</td>\n",
              "      <td>86.990970</td>\n",
              "      <td>2.963135</td>\n",
              "      <td>0</td>\n",
              "    </tr>\n",
              "    <tr>\n",
              "      <th>1</th>\n",
              "      <td>3.716080</td>\n",
              "      <td>129.422921</td>\n",
              "      <td>18630.057858</td>\n",
              "      <td>6.635246</td>\n",
              "      <td>NaN</td>\n",
              "      <td>592.885359</td>\n",
              "      <td>15.180013</td>\n",
              "      <td>56.329076</td>\n",
              "      <td>4.500656</td>\n",
              "      <td>0</td>\n",
              "    </tr>\n",
              "    <tr>\n",
              "      <th>2</th>\n",
              "      <td>8.099124</td>\n",
              "      <td>224.236259</td>\n",
              "      <td>19909.541732</td>\n",
              "      <td>9.275884</td>\n",
              "      <td>NaN</td>\n",
              "      <td>418.606213</td>\n",
              "      <td>16.868637</td>\n",
              "      <td>66.420093</td>\n",
              "      <td>3.055934</td>\n",
              "      <td>0</td>\n",
              "    </tr>\n",
              "    <tr>\n",
              "      <th>3</th>\n",
              "      <td>8.316766</td>\n",
              "      <td>214.373394</td>\n",
              "      <td>22018.417441</td>\n",
              "      <td>8.059332</td>\n",
              "      <td>356.886136</td>\n",
              "      <td>363.266516</td>\n",
              "      <td>18.436524</td>\n",
              "      <td>100.341674</td>\n",
              "      <td>4.628771</td>\n",
              "      <td>0</td>\n",
              "    </tr>\n",
              "    <tr>\n",
              "      <th>4</th>\n",
              "      <td>9.092223</td>\n",
              "      <td>181.101509</td>\n",
              "      <td>17978.986339</td>\n",
              "      <td>6.546600</td>\n",
              "      <td>310.135738</td>\n",
              "      <td>398.410813</td>\n",
              "      <td>11.558279</td>\n",
              "      <td>31.997993</td>\n",
              "      <td>4.075075</td>\n",
              "      <td>0</td>\n",
              "    </tr>\n",
              "    <tr>\n",
              "      <th>5</th>\n",
              "      <td>5.584087</td>\n",
              "      <td>188.313324</td>\n",
              "      <td>28748.687739</td>\n",
              "      <td>7.544869</td>\n",
              "      <td>326.678363</td>\n",
              "      <td>280.467916</td>\n",
              "      <td>8.399735</td>\n",
              "      <td>54.917862</td>\n",
              "      <td>2.559708</td>\n",
              "      <td>0</td>\n",
              "    </tr>\n",
              "    <tr>\n",
              "      <th>6</th>\n",
              "      <td>10.223862</td>\n",
              "      <td>248.071735</td>\n",
              "      <td>28749.716544</td>\n",
              "      <td>7.513408</td>\n",
              "      <td>393.663396</td>\n",
              "      <td>283.651634</td>\n",
              "      <td>13.789695</td>\n",
              "      <td>84.603556</td>\n",
              "      <td>2.672989</td>\n",
              "      <td>0</td>\n",
              "    </tr>\n",
              "    <tr>\n",
              "      <th>7</th>\n",
              "      <td>8.635849</td>\n",
              "      <td>203.361523</td>\n",
              "      <td>13672.091764</td>\n",
              "      <td>4.563009</td>\n",
              "      <td>303.309771</td>\n",
              "      <td>474.607645</td>\n",
              "      <td>12.363817</td>\n",
              "      <td>62.798309</td>\n",
              "      <td>4.401425</td>\n",
              "      <td>0</td>\n",
              "    </tr>\n",
              "    <tr>\n",
              "      <th>8</th>\n",
              "      <td>NaN</td>\n",
              "      <td>118.988579</td>\n",
              "      <td>14285.583854</td>\n",
              "      <td>7.804174</td>\n",
              "      <td>268.646941</td>\n",
              "      <td>389.375566</td>\n",
              "      <td>12.706049</td>\n",
              "      <td>53.928846</td>\n",
              "      <td>3.595017</td>\n",
              "      <td>0</td>\n",
              "    </tr>\n",
              "    <tr>\n",
              "      <th>10</th>\n",
              "      <td>7.360640</td>\n",
              "      <td>165.520797</td>\n",
              "      <td>32452.614409</td>\n",
              "      <td>7.550701</td>\n",
              "      <td>326.624353</td>\n",
              "      <td>425.383419</td>\n",
              "      <td>15.586810</td>\n",
              "      <td>78.740016</td>\n",
              "      <td>3.662292</td>\n",
              "      <td>0</td>\n",
              "    </tr>\n",
              "  </tbody>\n",
              "</table>\n",
              "</div>"
            ],
            "text/plain": [
              "           ph    Hardness        Solids  ...  Trihalomethanes  Turbidity  Potability\n",
              "0         NaN  204.890455  20791.318981  ...        86.990970   2.963135           0\n",
              "1    3.716080  129.422921  18630.057858  ...        56.329076   4.500656           0\n",
              "2    8.099124  224.236259  19909.541732  ...        66.420093   3.055934           0\n",
              "3    8.316766  214.373394  22018.417441  ...       100.341674   4.628771           0\n",
              "4    9.092223  181.101509  17978.986339  ...        31.997993   4.075075           0\n",
              "5    5.584087  188.313324  28748.687739  ...        54.917862   2.559708           0\n",
              "6   10.223862  248.071735  28749.716544  ...        84.603556   2.672989           0\n",
              "7    8.635849  203.361523  13672.091764  ...        62.798309   4.401425           0\n",
              "8         NaN  118.988579  14285.583854  ...        53.928846   3.595017           0\n",
              "10   7.360640  165.520797  32452.614409  ...        78.740016   3.662292           0\n",
              "\n",
              "[10 rows x 10 columns]"
            ]
          },
          "metadata": {
            "tags": []
          },
          "execution_count": 23
        }
      ]
    },
    {
      "cell_type": "code",
      "metadata": {
        "colab": {
          "base_uri": "https://localhost:8080/"
        },
        "id": "t3rD1tA7RmpQ",
        "outputId": "c8c135a5-0146-4ccb-8abb-7d6f37a60c98"
      },
      "source": [
        "non_outlier_df.shape"
      ],
      "execution_count": null,
      "outputs": [
        {
          "output_type": "execute_result",
          "data": {
            "text/plain": [
              "(2951, 10)"
            ]
          },
          "metadata": {
            "tags": []
          },
          "execution_count": 24
        }
      ]
    },
    {
      "cell_type": "code",
      "metadata": {
        "id": "pV3lQJUTRmsI"
      },
      "source": [
        "final_feature_column = ['ph', 'Hardness', 'Solids', 'Chloramines', 'Sulfate', 'Conductivity', \n",
        "                  'Organic_carbon', 'Trihalomethanes', 'Turbidity',]\n",
        "target_column = ['Potability']\n",
        "final_column = final_feature_column + target_column"
      ],
      "execution_count": null,
      "outputs": []
    },
    {
      "cell_type": "code",
      "metadata": {
        "id": "qxkoFl9KRmvA"
      },
      "source": [
        "# standardize the data\n",
        "scaler = preprocessing.StandardScaler()\n",
        "final_df = non_outlier_df[final_column].copy()\n",
        "final_df = pd.DataFrame(scaler.fit_transform(final_df[final_feature_column]),columns=final_feature_column)\n",
        "final_df['Potability'] = non_outlier_df['Potability'].to_numpy()"
      ],
      "execution_count": null,
      "outputs": []
    },
    {
      "cell_type": "code",
      "metadata": {
        "colab": {
          "base_uri": "https://localhost:8080/"
        },
        "id": "NZ5jm99jRmxz",
        "outputId": "613156f1-d1ce-44eb-e12e-db5a38b34eff"
      },
      "source": [
        "final_df.shape"
      ],
      "execution_count": null,
      "outputs": [
        {
          "output_type": "execute_result",
          "data": {
            "text/plain": [
              "(2951, 10)"
            ]
          },
          "metadata": {
            "tags": []
          },
          "execution_count": 27
        }
      ]
    },
    {
      "cell_type": "markdown",
      "metadata": {
        "id": "AEXTG-s2UTVi"
      },
      "source": [
        "**Handle Missing Data**"
      ]
    },
    {
      "cell_type": "code",
      "metadata": {
        "colab": {
          "base_uri": "https://localhost:8080/",
          "height": 437
        },
        "id": "Gq0PriO2SlRA",
        "outputId": "6d539993-6039-4436-d9b5-85216a6bc9f5"
      },
      "source": [
        "# handle missing data - replace values with mean - multiple column - string column\n",
        "replaced_value_final_df = final_df.copy()\n",
        "replaced_value_final_df.fillna(method='bfill',axis=0,inplace=True)\n",
        "replaced_value_final_df['Sulfate'].fillna(1,axis=0,inplace=True)\n",
        "replaced_value_final_df"
      ],
      "execution_count": null,
      "outputs": [
        {
          "output_type": "execute_result",
          "data": {
            "text/html": [
              "<div>\n",
              "<style scoped>\n",
              "    .dataframe tbody tr th:only-of-type {\n",
              "        vertical-align: middle;\n",
              "    }\n",
              "\n",
              "    .dataframe tbody tr th {\n",
              "        vertical-align: top;\n",
              "    }\n",
              "\n",
              "    .dataframe thead th {\n",
              "        text-align: right;\n",
              "    }\n",
              "</style>\n",
              "<table border=\"1\" class=\"dataframe\">\n",
              "  <thead>\n",
              "    <tr style=\"text-align: right;\">\n",
              "      <th></th>\n",
              "      <th>ph</th>\n",
              "      <th>Hardness</th>\n",
              "      <th>Solids</th>\n",
              "      <th>Chloramines</th>\n",
              "      <th>Sulfate</th>\n",
              "      <th>Conductivity</th>\n",
              "      <th>Organic_carbon</th>\n",
              "      <th>Trihalomethanes</th>\n",
              "      <th>Turbidity</th>\n",
              "      <th>Potability</th>\n",
              "    </tr>\n",
              "  </thead>\n",
              "  <tbody>\n",
              "    <tr>\n",
              "      <th>0</th>\n",
              "      <td>-2.326195</td>\n",
              "      <td>0.286133</td>\n",
              "      <td>-0.099843</td>\n",
              "      <td>0.126246</td>\n",
              "      <td>0.908121</td>\n",
              "      <td>1.732275</td>\n",
              "      <td>-1.228286</td>\n",
              "      <td>1.321117</td>\n",
              "      <td>-1.322763</td>\n",
              "      <td>0</td>\n",
              "    </tr>\n",
              "    <tr>\n",
              "      <th>1</th>\n",
              "      <td>-2.326195</td>\n",
              "      <td>-2.290404</td>\n",
              "      <td>-0.367348</td>\n",
              "      <td>-0.336283</td>\n",
              "      <td>0.601194</td>\n",
              "      <td>2.089019</td>\n",
              "      <td>0.269202</td>\n",
              "      <td>-0.648049</td>\n",
              "      <td>0.698732</td>\n",
              "      <td>0</td>\n",
              "    </tr>\n",
              "    <tr>\n",
              "      <th>2</th>\n",
              "      <td>0.710302</td>\n",
              "      <td>0.946619</td>\n",
              "      <td>-0.208983</td>\n",
              "      <td>1.500457</td>\n",
              "      <td>0.601194</td>\n",
              "      <td>-0.086634</td>\n",
              "      <td>0.795988</td>\n",
              "      <td>0.000015</td>\n",
              "      <td>-1.200754</td>\n",
              "      <td>0</td>\n",
              "    </tr>\n",
              "    <tr>\n",
              "      <th>3</th>\n",
              "      <td>0.861081</td>\n",
              "      <td>0.609891</td>\n",
              "      <td>0.052038</td>\n",
              "      <td>0.654264</td>\n",
              "      <td>0.601194</td>\n",
              "      <td>-0.777480</td>\n",
              "      <td>1.285109</td>\n",
              "      <td>2.178525</td>\n",
              "      <td>0.867173</td>\n",
              "      <td>0</td>\n",
              "    </tr>\n",
              "    <tr>\n",
              "      <th>4</th>\n",
              "      <td>1.398304</td>\n",
              "      <td>-0.526045</td>\n",
              "      <td>-0.447932</td>\n",
              "      <td>-0.397942</td>\n",
              "      <td>-0.632559</td>\n",
              "      <td>-0.338748</td>\n",
              "      <td>-0.860640</td>\n",
              "      <td>-2.210639</td>\n",
              "      <td>0.139189</td>\n",
              "      <td>0</td>\n",
              "    </tr>\n",
              "    <tr>\n",
              "      <th>...</th>\n",
              "      <td>...</td>\n",
              "      <td>...</td>\n",
              "      <td>...</td>\n",
              "      <td>...</td>\n",
              "      <td>...</td>\n",
              "      <td>...</td>\n",
              "      <td>...</td>\n",
              "      <td>...</td>\n",
              "      <td>...</td>\n",
              "      <td>...</td>\n",
              "    </tr>\n",
              "    <tr>\n",
              "      <th>2946</th>\n",
              "      <td>-0.695706</td>\n",
              "      <td>-0.336305</td>\n",
              "      <td>0.562025</td>\n",
              "      <td>0.437397</td>\n",
              "      <td>0.305996</td>\n",
              "      <td>-0.120580</td>\n",
              "      <td>-0.701746</td>\n",
              "      <td>-0.385327</td>\n",
              "      <td>-0.393774</td>\n",
              "      <td>1</td>\n",
              "    </tr>\n",
              "    <tr>\n",
              "      <th>2947</th>\n",
              "      <td>0.509209</td>\n",
              "      <td>-0.100931</td>\n",
              "      <td>-0.528283</td>\n",
              "      <td>0.655676</td>\n",
              "      <td>1.000000</td>\n",
              "      <td>-0.413166</td>\n",
              "      <td>1.742664</td>\n",
              "      <td>0.219995</td>\n",
              "      <td>-1.539559</td>\n",
              "      <td>1</td>\n",
              "    </tr>\n",
              "    <tr>\n",
              "      <th>2948</th>\n",
              "      <td>1.625043</td>\n",
              "      <td>-0.708319</td>\n",
              "      <td>1.430510</td>\n",
              "      <td>0.161039</td>\n",
              "      <td>1.000000</td>\n",
              "      <td>0.081129</td>\n",
              "      <td>-1.022614</td>\n",
              "      <td>0.219995</td>\n",
              "      <td>-0.881340</td>\n",
              "      <td>1</td>\n",
              "    </tr>\n",
              "    <tr>\n",
              "      <th>2949</th>\n",
              "      <td>-1.348899</td>\n",
              "      <td>1.164011</td>\n",
              "      <td>-1.189962</td>\n",
              "      <td>-0.567134</td>\n",
              "      <td>1.000000</td>\n",
              "      <td>-0.282917</td>\n",
              "      <td>-0.982097</td>\n",
              "      <td>0.710832</td>\n",
              "      <td>0.972208</td>\n",
              "      <td>1</td>\n",
              "    </tr>\n",
              "    <tr>\n",
              "      <th>2950</th>\n",
              "      <td>0.554805</td>\n",
              "      <td>-0.048044</td>\n",
              "      <td>-0.519078</td>\n",
              "      <td>0.271684</td>\n",
              "      <td>1.000000</td>\n",
              "      <td>-1.224481</td>\n",
              "      <td>0.568796</td>\n",
              "      <td>0.788555</td>\n",
              "      <td>-2.182608</td>\n",
              "      <td>1</td>\n",
              "    </tr>\n",
              "  </tbody>\n",
              "</table>\n",
              "<p>2951 rows × 10 columns</p>\n",
              "</div>"
            ],
            "text/plain": [
              "            ph  Hardness    Solids  ...  Trihalomethanes  Turbidity  Potability\n",
              "0    -2.326195  0.286133 -0.099843  ...         1.321117  -1.322763           0\n",
              "1    -2.326195 -2.290404 -0.367348  ...        -0.648049   0.698732           0\n",
              "2     0.710302  0.946619 -0.208983  ...         0.000015  -1.200754           0\n",
              "3     0.861081  0.609891  0.052038  ...         2.178525   0.867173           0\n",
              "4     1.398304 -0.526045 -0.447932  ...        -2.210639   0.139189           0\n",
              "...        ...       ...       ...  ...              ...        ...         ...\n",
              "2946 -0.695706 -0.336305  0.562025  ...        -0.385327  -0.393774           1\n",
              "2947  0.509209 -0.100931 -0.528283  ...         0.219995  -1.539559           1\n",
              "2948  1.625043 -0.708319  1.430510  ...         0.219995  -0.881340           1\n",
              "2949 -1.348899  1.164011 -1.189962  ...         0.710832   0.972208           1\n",
              "2950  0.554805 -0.048044 -0.519078  ...         0.788555  -2.182608           1\n",
              "\n",
              "[2951 rows x 10 columns]"
            ]
          },
          "metadata": {
            "tags": []
          },
          "execution_count": 28
        }
      ]
    },
    {
      "cell_type": "code",
      "metadata": {
        "colab": {
          "base_uri": "https://localhost:8080/",
          "height": 377
        },
        "id": "FmtMv-hySlTm",
        "outputId": "7894c4c9-c020-4f59-a378-ac5b004a2652"
      },
      "source": [
        "replaced_value_final_df.head(10)"
      ],
      "execution_count": null,
      "outputs": [
        {
          "output_type": "execute_result",
          "data": {
            "text/html": [
              "<div>\n",
              "<style scoped>\n",
              "    .dataframe tbody tr th:only-of-type {\n",
              "        vertical-align: middle;\n",
              "    }\n",
              "\n",
              "    .dataframe tbody tr th {\n",
              "        vertical-align: top;\n",
              "    }\n",
              "\n",
              "    .dataframe thead th {\n",
              "        text-align: right;\n",
              "    }\n",
              "</style>\n",
              "<table border=\"1\" class=\"dataframe\">\n",
              "  <thead>\n",
              "    <tr style=\"text-align: right;\">\n",
              "      <th></th>\n",
              "      <th>ph</th>\n",
              "      <th>Hardness</th>\n",
              "      <th>Solids</th>\n",
              "      <th>Chloramines</th>\n",
              "      <th>Sulfate</th>\n",
              "      <th>Conductivity</th>\n",
              "      <th>Organic_carbon</th>\n",
              "      <th>Trihalomethanes</th>\n",
              "      <th>Turbidity</th>\n",
              "      <th>Potability</th>\n",
              "    </tr>\n",
              "  </thead>\n",
              "  <tbody>\n",
              "    <tr>\n",
              "      <th>0</th>\n",
              "      <td>-2.326195</td>\n",
              "      <td>0.286133</td>\n",
              "      <td>-0.099843</td>\n",
              "      <td>0.126246</td>\n",
              "      <td>0.908121</td>\n",
              "      <td>1.732275</td>\n",
              "      <td>-1.228286</td>\n",
              "      <td>1.321117</td>\n",
              "      <td>-1.322763</td>\n",
              "      <td>0</td>\n",
              "    </tr>\n",
              "    <tr>\n",
              "      <th>1</th>\n",
              "      <td>-2.326195</td>\n",
              "      <td>-2.290404</td>\n",
              "      <td>-0.367348</td>\n",
              "      <td>-0.336283</td>\n",
              "      <td>0.601194</td>\n",
              "      <td>2.089019</td>\n",
              "      <td>0.269202</td>\n",
              "      <td>-0.648049</td>\n",
              "      <td>0.698732</td>\n",
              "      <td>0</td>\n",
              "    </tr>\n",
              "    <tr>\n",
              "      <th>2</th>\n",
              "      <td>0.710302</td>\n",
              "      <td>0.946619</td>\n",
              "      <td>-0.208983</td>\n",
              "      <td>1.500457</td>\n",
              "      <td>0.601194</td>\n",
              "      <td>-0.086634</td>\n",
              "      <td>0.795988</td>\n",
              "      <td>0.000015</td>\n",
              "      <td>-1.200754</td>\n",
              "      <td>0</td>\n",
              "    </tr>\n",
              "    <tr>\n",
              "      <th>3</th>\n",
              "      <td>0.861081</td>\n",
              "      <td>0.609891</td>\n",
              "      <td>0.052038</td>\n",
              "      <td>0.654264</td>\n",
              "      <td>0.601194</td>\n",
              "      <td>-0.777480</td>\n",
              "      <td>1.285109</td>\n",
              "      <td>2.178525</td>\n",
              "      <td>0.867173</td>\n",
              "      <td>0</td>\n",
              "    </tr>\n",
              "    <tr>\n",
              "      <th>4</th>\n",
              "      <td>1.398304</td>\n",
              "      <td>-0.526045</td>\n",
              "      <td>-0.447932</td>\n",
              "      <td>-0.397942</td>\n",
              "      <td>-0.632559</td>\n",
              "      <td>-0.338748</td>\n",
              "      <td>-0.860640</td>\n",
              "      <td>-2.210639</td>\n",
              "      <td>0.139189</td>\n",
              "      <td>0</td>\n",
              "    </tr>\n",
              "    <tr>\n",
              "      <th>5</th>\n",
              "      <td>-1.032073</td>\n",
              "      <td>-0.279826</td>\n",
              "      <td>0.885059</td>\n",
              "      <td>0.296421</td>\n",
              "      <td>-0.195996</td>\n",
              "      <td>-1.811114</td>\n",
              "      <td>-1.845986</td>\n",
              "      <td>-0.738680</td>\n",
              "      <td>-1.853179</td>\n",
              "      <td>0</td>\n",
              "    </tr>\n",
              "    <tr>\n",
              "      <th>6</th>\n",
              "      <td>2.182284</td>\n",
              "      <td>1.760386</td>\n",
              "      <td>0.885186</td>\n",
              "      <td>0.274538</td>\n",
              "      <td>1.571754</td>\n",
              "      <td>-1.771370</td>\n",
              "      <td>-0.164524</td>\n",
              "      <td>1.167793</td>\n",
              "      <td>-1.704240</td>\n",
              "      <td>0</td>\n",
              "    </tr>\n",
              "    <tr>\n",
              "      <th>7</th>\n",
              "      <td>1.082136</td>\n",
              "      <td>0.233934</td>\n",
              "      <td>-0.981007</td>\n",
              "      <td>-1.777661</td>\n",
              "      <td>-0.812698</td>\n",
              "      <td>0.612473</td>\n",
              "      <td>-0.609344</td>\n",
              "      <td>-0.232583</td>\n",
              "      <td>0.568265</td>\n",
              "      <td>0</td>\n",
              "    </tr>\n",
              "    <tr>\n",
              "      <th>8</th>\n",
              "      <td>0.198693</td>\n",
              "      <td>-2.646643</td>\n",
              "      <td>-0.905073</td>\n",
              "      <td>0.476785</td>\n",
              "      <td>-1.727458</td>\n",
              "      <td>-0.451541</td>\n",
              "      <td>-0.502580</td>\n",
              "      <td>-0.802197</td>\n",
              "      <td>-0.491980</td>\n",
              "      <td>0</td>\n",
              "    </tr>\n",
              "    <tr>\n",
              "      <th>9</th>\n",
              "      <td>0.198693</td>\n",
              "      <td>-1.057986</td>\n",
              "      <td>1.343503</td>\n",
              "      <td>0.300477</td>\n",
              "      <td>-0.197421</td>\n",
              "      <td>-0.002029</td>\n",
              "      <td>0.396107</td>\n",
              "      <td>0.791225</td>\n",
              "      <td>-0.403529</td>\n",
              "      <td>0</td>\n",
              "    </tr>\n",
              "  </tbody>\n",
              "</table>\n",
              "</div>"
            ],
            "text/plain": [
              "         ph  Hardness    Solids  ...  Trihalomethanes  Turbidity  Potability\n",
              "0 -2.326195  0.286133 -0.099843  ...         1.321117  -1.322763           0\n",
              "1 -2.326195 -2.290404 -0.367348  ...        -0.648049   0.698732           0\n",
              "2  0.710302  0.946619 -0.208983  ...         0.000015  -1.200754           0\n",
              "3  0.861081  0.609891  0.052038  ...         2.178525   0.867173           0\n",
              "4  1.398304 -0.526045 -0.447932  ...        -2.210639   0.139189           0\n",
              "5 -1.032073 -0.279826  0.885059  ...        -0.738680  -1.853179           0\n",
              "6  2.182284  1.760386  0.885186  ...         1.167793  -1.704240           0\n",
              "7  1.082136  0.233934 -0.981007  ...        -0.232583   0.568265           0\n",
              "8  0.198693 -2.646643 -0.905073  ...        -0.802197  -0.491980           0\n",
              "9  0.198693 -1.057986  1.343503  ...         0.791225  -0.403529           0\n",
              "\n",
              "[10 rows x 10 columns]"
            ]
          },
          "metadata": {
            "tags": []
          },
          "execution_count": 29
        }
      ]
    },
    {
      "cell_type": "code",
      "metadata": {
        "id": "p-cqEFpkSlWK"
      },
      "source": [
        "# prepare the data to numpy array\n",
        "final_feature_array = replaced_value_final_df[final_feature_column].to_numpy()\n",
        "target_array = replaced_value_final_df[target_column].to_numpy()"
      ],
      "execution_count": null,
      "outputs": []
    },
    {
      "cell_type": "code",
      "metadata": {
        "colab": {
          "base_uri": "https://localhost:8080/"
        },
        "id": "Cxz-4uMOSlY3",
        "outputId": "ecfd7c14-89a4-4ec1-e0b4-81c65900809c"
      },
      "source": [
        "print('shape of final feature:',final_feature_array.shape)\n",
        "print('shape of target:',target_array.shape)"
      ],
      "execution_count": null,
      "outputs": [
        {
          "output_type": "stream",
          "text": [
            "shape of final feature: (2951, 9)\n",
            "shape of target: (2951, 1)\n"
          ],
          "name": "stdout"
        }
      ]
    },
    {
      "cell_type": "markdown",
      "metadata": {
        "id": "RGg_kj8NSqnd"
      },
      "source": [
        "**PCA**"
      ]
    },
    {
      "cell_type": "code",
      "metadata": {
        "id": "n_8v_oOdSlby"
      },
      "source": [
        "# load the algorithm\n",
        "pca_model = decomposition.PCA(n_components=2)"
      ],
      "execution_count": null,
      "outputs": []
    },
    {
      "cell_type": "code",
      "metadata": {
        "id": "Gg47nSqnSleH"
      },
      "source": [
        "# train the data and transform\n",
        "pca_feature_array = pca_model.fit_transform(final_feature_array)"
      ],
      "execution_count": null,
      "outputs": []
    },
    {
      "cell_type": "code",
      "metadata": {
        "colab": {
          "base_uri": "https://localhost:8080/"
        },
        "id": "eL2U_xq4S6RY",
        "outputId": "c6d7cd4b-7a3c-40c4-e34d-9e139e9663a6"
      },
      "source": [
        "# check the shape of the result\n",
        "pca_feature_array.shape"
      ],
      "execution_count": null,
      "outputs": [
        {
          "output_type": "execute_result",
          "data": {
            "text/plain": [
              "(2951, 2)"
            ]
          },
          "metadata": {
            "tags": []
          },
          "execution_count": 35
        }
      ]
    },
    {
      "cell_type": "code",
      "metadata": {
        "id": "9ukVBNU_S6Ue"
      },
      "source": [
        "# add new name for the new column\n",
        "pca_column = ['PCA Column 1','PCA Column 2']"
      ],
      "execution_count": null,
      "outputs": []
    },
    {
      "cell_type": "code",
      "metadata": {
        "id": "C-lDdJbgS6XZ"
      },
      "source": [
        "# transform to dataframe\n",
        "pca_feature_df = pd.DataFrame(pca_feature_array,columns=pca_column)\n",
        "pca_feature_df['Potability'] = target_array"
      ],
      "execution_count": null,
      "outputs": []
    },
    {
      "cell_type": "code",
      "metadata": {
        "colab": {
          "base_uri": "https://localhost:8080/",
          "height": 203
        },
        "id": "q1MAOMEUS6aD",
        "outputId": "4d14f335-25d0-42e7-cdf6-f8b1285b8b42"
      },
      "source": [
        "# check the resulted data\n",
        "pca_feature_df.head(5)"
      ],
      "execution_count": null,
      "outputs": [
        {
          "output_type": "execute_result",
          "data": {
            "text/html": [
              "<div>\n",
              "<style scoped>\n",
              "    .dataframe tbody tr th:only-of-type {\n",
              "        vertical-align: middle;\n",
              "    }\n",
              "\n",
              "    .dataframe tbody tr th {\n",
              "        vertical-align: top;\n",
              "    }\n",
              "\n",
              "    .dataframe thead th {\n",
              "        text-align: right;\n",
              "    }\n",
              "</style>\n",
              "<table border=\"1\" class=\"dataframe\">\n",
              "  <thead>\n",
              "    <tr style=\"text-align: right;\">\n",
              "      <th></th>\n",
              "      <th>PCA Column 1</th>\n",
              "      <th>PCA Column 2</th>\n",
              "      <th>Potability</th>\n",
              "    </tr>\n",
              "  </thead>\n",
              "  <tbody>\n",
              "    <tr>\n",
              "      <th>0</th>\n",
              "      <td>-0.667457</td>\n",
              "      <td>-1.287421</td>\n",
              "      <td>0</td>\n",
              "    </tr>\n",
              "    <tr>\n",
              "      <th>1</th>\n",
              "      <td>-2.283704</td>\n",
              "      <td>-1.780675</td>\n",
              "      <td>0</td>\n",
              "    </tr>\n",
              "    <tr>\n",
              "      <th>2</th>\n",
              "      <td>1.687734</td>\n",
              "      <td>-0.229934</td>\n",
              "      <td>0</td>\n",
              "    </tr>\n",
              "    <tr>\n",
              "      <th>3</th>\n",
              "      <td>1.185989</td>\n",
              "      <td>-0.211839</td>\n",
              "      <td>0</td>\n",
              "    </tr>\n",
              "    <tr>\n",
              "      <th>4</th>\n",
              "      <td>0.249341</td>\n",
              "      <td>0.613356</td>\n",
              "      <td>0</td>\n",
              "    </tr>\n",
              "  </tbody>\n",
              "</table>\n",
              "</div>"
            ],
            "text/plain": [
              "   PCA Column 1  PCA Column 2  Potability\n",
              "0     -0.667457     -1.287421           0\n",
              "1     -2.283704     -1.780675           0\n",
              "2      1.687734     -0.229934           0\n",
              "3      1.185989     -0.211839           0\n",
              "4      0.249341      0.613356           0"
            ]
          },
          "metadata": {
            "tags": []
          },
          "execution_count": 38
        }
      ]
    },
    {
      "cell_type": "code",
      "metadata": {
        "colab": {
          "base_uri": "https://localhost:8080/"
        },
        "id": "mdcNdAB0S6c9",
        "outputId": "328f68d1-b960-4ce1-9e13-b475125680ab"
      },
      "source": [
        "# check the explained variance\n",
        "print('explained variance:',pca_model.explained_variance_ratio_)"
      ],
      "execution_count": null,
      "outputs": [
        {
          "output_type": "stream",
          "text": [
            "explained variance: [0.13016619 0.12656036]\n"
          ],
          "name": "stdout"
        }
      ]
    },
    {
      "cell_type": "code",
      "metadata": {
        "colab": {
          "base_uri": "https://localhost:8080/",
          "height": 276
        },
        "id": "LPatZM1AS6ff",
        "outputId": "129b618f-7176-4400-bb47-e07fd726caad"
      },
      "source": [
        "# show in 2D plot\n",
        "pca_feature_df.plot.scatter(x='PCA Column 1',y='PCA Column 2',c='Potability',colormap='viridis')"
      ],
      "execution_count": null,
      "outputs": [
        {
          "output_type": "execute_result",
          "data": {
            "text/plain": [
              "<matplotlib.axes._subplots.AxesSubplot at 0x7fe9735ca610>"
            ]
          },
          "metadata": {
            "tags": []
          },
          "execution_count": 40
        },
        {
          "output_type": "display_data",
          "data": {
            "image/png": "[encoded data removed]",
            "text/plain": [
              "<Figure size 432x288 with 2 Axes>"
            ]
          },
          "metadata": {
            "tags": [],
            "needs_background": "light"
          }
        }
      ]
    },
    {
      "cell_type": "code",
      "metadata": {
        "colab": {
          "base_uri": "https://localhost:8080/",
          "height": 297
        },
        "id": "3E36QOTxS6hx",
        "outputId": "42c9a4f9-fbce-46c2-ec3e-184001eaf22c"
      },
      "source": [
        "# show in 2D plot\n",
        "pca_feature_df.plot.scatter(x='PCA Column 1',y='PCA Column 2')"
      ],
      "execution_count": null,
      "outputs": [
        {
          "output_type": "execute_result",
          "data": {
            "text/plain": [
              "<matplotlib.axes._subplots.AxesSubplot at 0x7fe96827d850>"
            ]
          },
          "metadata": {
            "tags": []
          },
          "execution_count": 41
        },
        {
          "output_type": "display_data",
          "data": {
            "image/png": "[encoded data removed]",
            "text/plain": [
              "<Figure size 432x288 with 1 Axes>"
            ]
          },
          "metadata": {
            "tags": [],
            "needs_background": "light"
          }
        }
      ]
    },
    {
      "cell_type": "code",
      "metadata": {
        "colab": {
          "base_uri": "https://localhost:8080/"
        },
        "id": "nG1vMUEzS6kf",
        "outputId": "0b65e99a-ddd5-4893-89cf-7ed801df63ce"
      },
      "source": [
        "# check explained variance for each number of component\n",
        "for x in range(1,len(final_feature_column)+1):\n",
        "  pca_model_x = decomposition.PCA(n_components=x)\n",
        "  pca_feature_array_x = pca_model_x.fit_transform(final_feature_array)\n",
        "  print('explained variance for {} column: {}'.format(x,np.sum(pca_model_x.explained_variance_ratio_)))"
      ],
      "execution_count": null,
      "outputs": [
        {
          "output_type": "stream",
          "text": [
            "explained variance for 1 column: 0.13016618673839933\n",
            "explained variance for 2 column: 0.25672654911598936\n",
            "explained variance for 3 column: 0.3724915257675281\n",
            "explained variance for 4 column: 0.4868834294842943\n",
            "explained variance for 5 column: 0.5985116137696751\n",
            "explained variance for 6 column: 0.7049380324664987\n",
            "explained variance for 7 column: 0.8102488794284296\n",
            "explained variance for 8 column: 0.9078739155672377\n",
            "explained variance for 9 column: 1.0\n"
          ],
          "name": "stdout"
        }
      ]
    },
    {
      "cell_type": "markdown",
      "metadata": {
        "id": "ImIuVCNJTGGw"
      },
      "source": [
        "**Clustering**"
      ]
    },
    {
      "cell_type": "code",
      "metadata": {
        "id": "PaoYxAAFS6nf"
      },
      "source": [
        "# load the algorithm\n",
        "cluster_model = cluster.KMeans(n_clusters=2)"
      ],
      "execution_count": null,
      "outputs": []
    },
    {
      "cell_type": "code",
      "metadata": {
        "id": "tNLZor2WTIyE"
      },
      "source": [
        "# train the data\n",
        "cluster_array = cluster_model.fit(final_feature_array)"
      ],
      "execution_count": null,
      "outputs": []
    },
    {
      "cell_type": "code",
      "metadata": {
        "id": "h16JuTX-TI0r"
      },
      "source": [
        "# label result\n",
        "cluster_label = cluster_model.labels_"
      ],
      "execution_count": null,
      "outputs": []
    },
    {
      "cell_type": "code",
      "metadata": {
        "colab": {
          "base_uri": "https://localhost:8080/"
        },
        "id": "P_m4ngaeTI3W",
        "outputId": "d29f890a-0966-4a4d-8615-d287b542d788"
      },
      "source": [
        "cluster_label"
      ],
      "execution_count": null,
      "outputs": [
        {
          "output_type": "execute_result",
          "data": {
            "text/plain": [
              "array([1, 1, 0, ..., 1, 0, 0], dtype=int32)"
            ]
          },
          "metadata": {
            "tags": []
          },
          "execution_count": 46
        }
      ]
    },
    {
      "cell_type": "code",
      "metadata": {
        "id": "_ofUqP2-TI6O"
      },
      "source": [
        "# add label to final dataframe\n",
        "final_df['Cluster'] = cluster_label"
      ],
      "execution_count": null,
      "outputs": []
    },
    {
      "cell_type": "code",
      "metadata": {
        "colab": {
          "base_uri": "https://localhost:8080/",
          "height": 377
        },
        "id": "r3TqcdG-S6qo",
        "outputId": "822b0880-d207-4317-dd50-5e23498741a0"
      },
      "source": [
        "# check the resulted data\n",
        "final_df.head(10)"
      ],
      "execution_count": null,
      "outputs": [
        {
          "output_type": "execute_result",
          "data": {
            "text/html": [
              "<div>\n",
              "<style scoped>\n",
              "    .dataframe tbody tr th:only-of-type {\n",
              "        vertical-align: middle;\n",
              "    }\n",
              "\n",
              "    .dataframe tbody tr th {\n",
              "        vertical-align: top;\n",
              "    }\n",
              "\n",
              "    .dataframe thead th {\n",
              "        text-align: right;\n",
              "    }\n",
              "</style>\n",
              "<table border=\"1\" class=\"dataframe\">\n",
              "  <thead>\n",
              "    <tr style=\"text-align: right;\">\n",
              "      <th></th>\n",
              "      <th>ph</th>\n",
              "      <th>Hardness</th>\n",
              "      <th>Solids</th>\n",
              "      <th>Chloramines</th>\n",
              "      <th>Sulfate</th>\n",
              "      <th>Conductivity</th>\n",
              "      <th>Organic_carbon</th>\n",
              "      <th>Trihalomethanes</th>\n",
              "      <th>Turbidity</th>\n",
              "      <th>Potability</th>\n",
              "      <th>Cluster</th>\n",
              "    </tr>\n",
              "  </thead>\n",
              "  <tbody>\n",
              "    <tr>\n",
              "      <th>0</th>\n",
              "      <td>NaN</td>\n",
              "      <td>0.286133</td>\n",
              "      <td>-0.099843</td>\n",
              "      <td>0.126246</td>\n",
              "      <td>0.908121</td>\n",
              "      <td>1.732275</td>\n",
              "      <td>-1.228286</td>\n",
              "      <td>1.321117</td>\n",
              "      <td>-1.322763</td>\n",
              "      <td>0</td>\n",
              "      <td>1</td>\n",
              "    </tr>\n",
              "    <tr>\n",
              "      <th>1</th>\n",
              "      <td>-2.326195</td>\n",
              "      <td>-2.290404</td>\n",
              "      <td>-0.367348</td>\n",
              "      <td>-0.336283</td>\n",
              "      <td>NaN</td>\n",
              "      <td>2.089019</td>\n",
              "      <td>0.269202</td>\n",
              "      <td>-0.648049</td>\n",
              "      <td>0.698732</td>\n",
              "      <td>0</td>\n",
              "      <td>1</td>\n",
              "    </tr>\n",
              "    <tr>\n",
              "      <th>2</th>\n",
              "      <td>0.710302</td>\n",
              "      <td>0.946619</td>\n",
              "      <td>-0.208983</td>\n",
              "      <td>1.500457</td>\n",
              "      <td>NaN</td>\n",
              "      <td>-0.086634</td>\n",
              "      <td>0.795988</td>\n",
              "      <td>0.000015</td>\n",
              "      <td>-1.200754</td>\n",
              "      <td>0</td>\n",
              "      <td>0</td>\n",
              "    </tr>\n",
              "    <tr>\n",
              "      <th>3</th>\n",
              "      <td>0.861081</td>\n",
              "      <td>0.609891</td>\n",
              "      <td>0.052038</td>\n",
              "      <td>0.654264</td>\n",
              "      <td>0.601194</td>\n",
              "      <td>-0.777480</td>\n",
              "      <td>1.285109</td>\n",
              "      <td>2.178525</td>\n",
              "      <td>0.867173</td>\n",
              "      <td>0</td>\n",
              "      <td>0</td>\n",
              "    </tr>\n",
              "    <tr>\n",
              "      <th>4</th>\n",
              "      <td>1.398304</td>\n",
              "      <td>-0.526045</td>\n",
              "      <td>-0.447932</td>\n",
              "      <td>-0.397942</td>\n",
              "      <td>-0.632559</td>\n",
              "      <td>-0.338748</td>\n",
              "      <td>-0.860640</td>\n",
              "      <td>-2.210639</td>\n",
              "      <td>0.139189</td>\n",
              "      <td>0</td>\n",
              "      <td>0</td>\n",
              "    </tr>\n",
              "    <tr>\n",
              "      <th>5</th>\n",
              "      <td>-1.032073</td>\n",
              "      <td>-0.279826</td>\n",
              "      <td>0.885059</td>\n",
              "      <td>0.296421</td>\n",
              "      <td>-0.195996</td>\n",
              "      <td>-1.811114</td>\n",
              "      <td>-1.845986</td>\n",
              "      <td>-0.738680</td>\n",
              "      <td>-1.853179</td>\n",
              "      <td>0</td>\n",
              "      <td>1</td>\n",
              "    </tr>\n",
              "    <tr>\n",
              "      <th>6</th>\n",
              "      <td>2.182284</td>\n",
              "      <td>1.760386</td>\n",
              "      <td>0.885186</td>\n",
              "      <td>0.274538</td>\n",
              "      <td>1.571754</td>\n",
              "      <td>-1.771370</td>\n",
              "      <td>-0.164524</td>\n",
              "      <td>1.167793</td>\n",
              "      <td>-1.704240</td>\n",
              "      <td>0</td>\n",
              "      <td>0</td>\n",
              "    </tr>\n",
              "    <tr>\n",
              "      <th>7</th>\n",
              "      <td>1.082136</td>\n",
              "      <td>0.233934</td>\n",
              "      <td>-0.981007</td>\n",
              "      <td>-1.777661</td>\n",
              "      <td>-0.812698</td>\n",
              "      <td>0.612473</td>\n",
              "      <td>-0.609344</td>\n",
              "      <td>-0.232583</td>\n",
              "      <td>0.568265</td>\n",
              "      <td>0</td>\n",
              "      <td>0</td>\n",
              "    </tr>\n",
              "    <tr>\n",
              "      <th>8</th>\n",
              "      <td>NaN</td>\n",
              "      <td>-2.646643</td>\n",
              "      <td>-0.905073</td>\n",
              "      <td>0.476785</td>\n",
              "      <td>-1.727458</td>\n",
              "      <td>-0.451541</td>\n",
              "      <td>-0.502580</td>\n",
              "      <td>-0.802197</td>\n",
              "      <td>-0.491980</td>\n",
              "      <td>0</td>\n",
              "      <td>1</td>\n",
              "    </tr>\n",
              "    <tr>\n",
              "      <th>9</th>\n",
              "      <td>0.198693</td>\n",
              "      <td>-1.057986</td>\n",
              "      <td>1.343503</td>\n",
              "      <td>0.300477</td>\n",
              "      <td>-0.197421</td>\n",
              "      <td>-0.002029</td>\n",
              "      <td>0.396107</td>\n",
              "      <td>0.791225</td>\n",
              "      <td>-0.403529</td>\n",
              "      <td>0</td>\n",
              "      <td>1</td>\n",
              "    </tr>\n",
              "  </tbody>\n",
              "</table>\n",
              "</div>"
            ],
            "text/plain": [
              "         ph  Hardness    Solids  ...  Turbidity  Potability  Cluster\n",
              "0       NaN  0.286133 -0.099843  ...  -1.322763           0        1\n",
              "1 -2.326195 -2.290404 -0.367348  ...   0.698732           0        1\n",
              "2  0.710302  0.946619 -0.208983  ...  -1.200754           0        0\n",
              "3  0.861081  0.609891  0.052038  ...   0.867173           0        0\n",
              "4  1.398304 -0.526045 -0.447932  ...   0.139189           0        0\n",
              "5 -1.032073 -0.279826  0.885059  ...  -1.853179           0        1\n",
              "6  2.182284  1.760386  0.885186  ...  -1.704240           0        0\n",
              "7  1.082136  0.233934 -0.981007  ...   0.568265           0        0\n",
              "8       NaN -2.646643 -0.905073  ...  -0.491980           0        1\n",
              "9  0.198693 -1.057986  1.343503  ...  -0.403529           0        1\n",
              "\n",
              "[10 rows x 11 columns]"
            ]
          },
          "metadata": {
            "tags": []
          },
          "execution_count": 48
        }
      ]
    },
    {
      "cell_type": "code",
      "metadata": {
        "colab": {
          "base_uri": "https://localhost:8080/",
          "height": 437
        },
        "id": "cMs2bwE8TVbN",
        "outputId": "ed35cb6e-55f1-44ac-ce5c-4ceefff8ab67"
      },
      "source": [
        "# handle missing data - replace values with mean - multiple column - string column\n",
        "replaced_value_final_df = final_df.copy()\n",
        "replaced_value_final_df.fillna(method='bfill',axis=0,inplace=True)\n",
        "replaced_value_final_df['Sulfate'].fillna(1,axis=0,inplace=True)\n",
        "replaced_value_final_df['ph'].fillna(1,axis=0,inplace=True)\n",
        "replaced_value_final_df"
      ],
      "execution_count": null,
      "outputs": [
        {
          "output_type": "execute_result",
          "data": {
            "text/html": [
              "<div>\n",
              "<style scoped>\n",
              "    .dataframe tbody tr th:only-of-type {\n",
              "        vertical-align: middle;\n",
              "    }\n",
              "\n",
              "    .dataframe tbody tr th {\n",
              "        vertical-align: top;\n",
              "    }\n",
              "\n",
              "    .dataframe thead th {\n",
              "        text-align: right;\n",
              "    }\n",
              "</style>\n",
              "<table border=\"1\" class=\"dataframe\">\n",
              "  <thead>\n",
              "    <tr style=\"text-align: right;\">\n",
              "      <th></th>\n",
              "      <th>ph</th>\n",
              "      <th>Hardness</th>\n",
              "      <th>Solids</th>\n",
              "      <th>Chloramines</th>\n",
              "      <th>Sulfate</th>\n",
              "      <th>Conductivity</th>\n",
              "      <th>Organic_carbon</th>\n",
              "      <th>Trihalomethanes</th>\n",
              "      <th>Turbidity</th>\n",
              "      <th>Potability</th>\n",
              "      <th>Cluster</th>\n",
              "    </tr>\n",
              "  </thead>\n",
              "  <tbody>\n",
              "    <tr>\n",
              "      <th>0</th>\n",
              "      <td>-2.326195</td>\n",
              "      <td>0.286133</td>\n",
              "      <td>-0.099843</td>\n",
              "      <td>0.126246</td>\n",
              "      <td>0.908121</td>\n",
              "      <td>1.732275</td>\n",
              "      <td>-1.228286</td>\n",
              "      <td>1.321117</td>\n",
              "      <td>-1.322763</td>\n",
              "      <td>0</td>\n",
              "      <td>1</td>\n",
              "    </tr>\n",
              "    <tr>\n",
              "      <th>1</th>\n",
              "      <td>-2.326195</td>\n",
              "      <td>-2.290404</td>\n",
              "      <td>-0.367348</td>\n",
              "      <td>-0.336283</td>\n",
              "      <td>0.601194</td>\n",
              "      <td>2.089019</td>\n",
              "      <td>0.269202</td>\n",
              "      <td>-0.648049</td>\n",
              "      <td>0.698732</td>\n",
              "      <td>0</td>\n",
              "      <td>1</td>\n",
              "    </tr>\n",
              "    <tr>\n",
              "      <th>2</th>\n",
              "      <td>0.710302</td>\n",
              "      <td>0.946619</td>\n",
              "      <td>-0.208983</td>\n",
              "      <td>1.500457</td>\n",
              "      <td>0.601194</td>\n",
              "      <td>-0.086634</td>\n",
              "      <td>0.795988</td>\n",
              "      <td>0.000015</td>\n",
              "      <td>-1.200754</td>\n",
              "      <td>0</td>\n",
              "      <td>0</td>\n",
              "    </tr>\n",
              "    <tr>\n",
              "      <th>3</th>\n",
              "      <td>0.861081</td>\n",
              "      <td>0.609891</td>\n",
              "      <td>0.052038</td>\n",
              "      <td>0.654264</td>\n",
              "      <td>0.601194</td>\n",
              "      <td>-0.777480</td>\n",
              "      <td>1.285109</td>\n",
              "      <td>2.178525</td>\n",
              "      <td>0.867173</td>\n",
              "      <td>0</td>\n",
              "      <td>0</td>\n",
              "    </tr>\n",
              "    <tr>\n",
              "      <th>4</th>\n",
              "      <td>1.398304</td>\n",
              "      <td>-0.526045</td>\n",
              "      <td>-0.447932</td>\n",
              "      <td>-0.397942</td>\n",
              "      <td>-0.632559</td>\n",
              "      <td>-0.338748</td>\n",
              "      <td>-0.860640</td>\n",
              "      <td>-2.210639</td>\n",
              "      <td>0.139189</td>\n",
              "      <td>0</td>\n",
              "      <td>0</td>\n",
              "    </tr>\n",
              "    <tr>\n",
              "      <th>...</th>\n",
              "      <td>...</td>\n",
              "      <td>...</td>\n",
              "      <td>...</td>\n",
              "      <td>...</td>\n",
              "      <td>...</td>\n",
              "      <td>...</td>\n",
              "      <td>...</td>\n",
              "      <td>...</td>\n",
              "      <td>...</td>\n",
              "      <td>...</td>\n",
              "      <td>...</td>\n",
              "    </tr>\n",
              "    <tr>\n",
              "      <th>2946</th>\n",
              "      <td>-0.695706</td>\n",
              "      <td>-0.336305</td>\n",
              "      <td>0.562025</td>\n",
              "      <td>0.437397</td>\n",
              "      <td>0.305996</td>\n",
              "      <td>-0.120580</td>\n",
              "      <td>-0.701746</td>\n",
              "      <td>-0.385327</td>\n",
              "      <td>-0.393774</td>\n",
              "      <td>1</td>\n",
              "      <td>1</td>\n",
              "    </tr>\n",
              "    <tr>\n",
              "      <th>2947</th>\n",
              "      <td>0.509209</td>\n",
              "      <td>-0.100931</td>\n",
              "      <td>-0.528283</td>\n",
              "      <td>0.655676</td>\n",
              "      <td>1.000000</td>\n",
              "      <td>-0.413166</td>\n",
              "      <td>1.742664</td>\n",
              "      <td>0.219995</td>\n",
              "      <td>-1.539559</td>\n",
              "      <td>1</td>\n",
              "      <td>0</td>\n",
              "    </tr>\n",
              "    <tr>\n",
              "      <th>2948</th>\n",
              "      <td>1.625043</td>\n",
              "      <td>-0.708319</td>\n",
              "      <td>1.430510</td>\n",
              "      <td>0.161039</td>\n",
              "      <td>1.000000</td>\n",
              "      <td>0.081129</td>\n",
              "      <td>-1.022614</td>\n",
              "      <td>0.219995</td>\n",
              "      <td>-0.881340</td>\n",
              "      <td>1</td>\n",
              "      <td>1</td>\n",
              "    </tr>\n",
              "    <tr>\n",
              "      <th>2949</th>\n",
              "      <td>-1.348899</td>\n",
              "      <td>1.164011</td>\n",
              "      <td>-1.189962</td>\n",
              "      <td>-0.567134</td>\n",
              "      <td>1.000000</td>\n",
              "      <td>-0.282917</td>\n",
              "      <td>-0.982097</td>\n",
              "      <td>0.710832</td>\n",
              "      <td>0.972208</td>\n",
              "      <td>1</td>\n",
              "      <td>0</td>\n",
              "    </tr>\n",
              "    <tr>\n",
              "      <th>2950</th>\n",
              "      <td>0.554805</td>\n",
              "      <td>-0.048044</td>\n",
              "      <td>-0.519078</td>\n",
              "      <td>0.271684</td>\n",
              "      <td>1.000000</td>\n",
              "      <td>-1.224481</td>\n",
              "      <td>0.568796</td>\n",
              "      <td>0.788555</td>\n",
              "      <td>-2.182608</td>\n",
              "      <td>1</td>\n",
              "      <td>0</td>\n",
              "    </tr>\n",
              "  </tbody>\n",
              "</table>\n",
              "<p>2951 rows × 11 columns</p>\n",
              "</div>"
            ],
            "text/plain": [
              "            ph  Hardness    Solids  ...  Turbidity  Potability  Cluster\n",
              "0    -2.326195  0.286133 -0.099843  ...  -1.322763           0        1\n",
              "1    -2.326195 -2.290404 -0.367348  ...   0.698732           0        1\n",
              "2     0.710302  0.946619 -0.208983  ...  -1.200754           0        0\n",
              "3     0.861081  0.609891  0.052038  ...   0.867173           0        0\n",
              "4     1.398304 -0.526045 -0.447932  ...   0.139189           0        0\n",
              "...        ...       ...       ...  ...        ...         ...      ...\n",
              "2946 -0.695706 -0.336305  0.562025  ...  -0.393774           1        1\n",
              "2947  0.509209 -0.100931 -0.528283  ...  -1.539559           1        0\n",
              "2948  1.625043 -0.708319  1.430510  ...  -0.881340           1        1\n",
              "2949 -1.348899  1.164011 -1.189962  ...   0.972208           1        0\n",
              "2950  0.554805 -0.048044 -0.519078  ...  -2.182608           1        0\n",
              "\n",
              "[2951 rows x 11 columns]"
            ]
          },
          "metadata": {
            "tags": []
          },
          "execution_count": 49
        }
      ]
    },
    {
      "cell_type": "code",
      "metadata": {
        "colab": {
          "base_uri": "https://localhost:8080/"
        },
        "id": "70Yvxus_TVdx",
        "outputId": "a1602e3f-7341-438c-9985-0da008ad7e73"
      },
      "source": [
        "# check using elbow method to define the best cluster [numbers]\n",
        "for x in range(1, 30):\n",
        "  cluster_model = cluster.KMeans(n_clusters=x)\n",
        "  cluster_array = cluster_model.fit(final_feature_array)\n",
        "  print(cluster_model.inertia_)"
      ],
      "execution_count": null,
      "outputs": [
        {
          "output_type": "stream",
          "text": [
            "26576.990978482136\n",
            "24334.702401198883\n",
            "22818.595710429152\n",
            "21702.27663080816\n",
            "20811.90116561047\n",
            "20079.53450250409\n",
            "19462.968453459158\n",
            "18924.636322171216\n",
            "18459.771362411855\n",
            "17971.62841344649\n",
            "17616.302712890094\n",
            "17290.637256091428\n",
            "16968.296094347646\n",
            "16691.60220913863\n",
            "16404.189339646815\n",
            "16128.88542694797\n",
            "15832.348906662497\n",
            "15691.186101846957\n",
            "15458.55049440642\n",
            "15324.996738810363\n",
            "15102.630288641989\n",
            "14927.021404736628\n",
            "14797.051812417718\n",
            "14652.298867489004\n",
            "14469.50377504536\n",
            "14331.678850871316\n",
            "14255.904086819346\n",
            "14101.530543924137\n",
            "13965.63568042982\n"
          ],
          "name": "stdout"
        }
      ]
    },
    {
      "cell_type": "code",
      "metadata": {
        "colab": {
          "base_uri": "https://localhost:8080/",
          "height": 295
        },
        "id": "MKDicicATVgN",
        "outputId": "d059ad82-2cdb-4853-ecea-598aaafc8a79"
      },
      "source": [
        "# check using elbow method to define the best cluster [graph]\n",
        "skplt.cluster.plot_elbow_curve(cluster_model, final_feature_array, cluster_ranges=range(1, 30))\n",
        "plt.show()"
      ],
      "execution_count": null,
      "outputs": [
        {
          "output_type": "display_data",
          "data": {
            "image/png": "[encoded data removed]",
            "text/plain": [
              "<Figure size 432x288 with 2 Axes>"
            ]
          },
          "metadata": {
            "tags": [],
            "needs_background": "light"
          }
        }
      ]
    },
    {
      "cell_type": "code",
      "metadata": {
        "colab": {
          "base_uri": "https://localhost:8080/",
          "height": 276
        },
        "id": "1kMbm_T-TVil",
        "outputId": "71daf1b2-428d-4c70-81dd-7d3b5e24b25e"
      },
      "source": [
        "# plot using PCA using the best cluster\n",
        "best_cluster_model = cluster.KMeans(n_clusters=3)\n",
        "best_cluster_array = best_cluster_model.fit(final_feature_array)\n",
        "best_cluster_label = best_cluster_model.labels_\n",
        "pca_feature_df = pd.DataFrame(pca_feature_array,columns=pca_column)\n",
        "pca_feature_df['Cluster'] = best_cluster_label\n",
        "pca_feature_df.plot.scatter(x='PCA Column 1',y='PCA Column 2',c='Cluster',colormap='viridis')"
      ],
      "execution_count": null,
      "outputs": [
        {
          "output_type": "execute_result",
          "data": {
            "text/plain": [
              "<matplotlib.axes._subplots.AxesSubplot at 0x7fe966944410>"
            ]
          },
          "metadata": {
            "tags": []
          },
          "execution_count": 52
        },
        {
          "output_type": "display_data",
          "data": {
            "image/png": "[encoded data removed]",
            "text/plain": [
              "<Figure size 432x288 with 2 Axes>"
            ]
          },
          "metadata": {
            "tags": [],
            "needs_background": "light"
          }
        }
      ]
    }
  ]
}